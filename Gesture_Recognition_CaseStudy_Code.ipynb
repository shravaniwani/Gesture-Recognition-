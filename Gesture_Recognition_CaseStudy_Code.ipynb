{
 "cells": [
  {
   "cell_type": "markdown",
   "metadata": {},
   "source": [
    "# Gesture Recognition\n",
    "In this group project, you are going to build a 3D Conv model that will be able to predict the 5 gestures correctly. Please import the following libraries to get started."
   ]
  },
  {
   "cell_type": "code",
   "execution_count": 1,
   "metadata": {},
   "outputs": [],
   "source": [
    "# Importing the required libraries\n",
    "\n",
    "import numpy as np\n",
    "from imageio import imread\n",
    "from skimage.transform import resize\n",
    "import os\n",
    "import datetime\n",
    "\n",
    "import warnings\n",
    "warnings.filterwarnings(\"ignore\")\n",
    "\n",
    "import abc\n",
    "from sys import getsizeof"
   ]
  },
  {
   "cell_type": "markdown",
   "metadata": {},
   "source": [
    "We set the random seed so that the results don't vary drastically."
   ]
  },
  {
   "cell_type": "code",
   "execution_count": 2,
   "metadata": {},
   "outputs": [],
   "source": [
    "np.random.seed(30)\n",
    "import random as rn\n",
    "rn.seed(30)\n",
    "from keras import backend as K\n",
    "import tensorflow as tf\n",
    "tf.random.set_seed(30)"
   ]
  },
  {
   "cell_type": "code",
   "execution_count": 3,
   "metadata": {},
   "outputs": [],
   "source": [
    "import cv2\n",
    "import matplotlib.pyplot as plt\n",
    "%matplotlib inline"
   ]
  },
  {
   "cell_type": "markdown",
   "metadata": {},
   "source": [
    "In this block, you read the folder names for training and validation. You also set the `batch_size` here. Note that you set the batch size in such a way that you are able to use the GPU in full capacity. You keep increasing the batch size until the machine throws an error."
   ]
  },
  {
   "cell_type": "code",
   "execution_count": 4,
   "metadata": {},
   "outputs": [],
   "source": [
    "from keras.models import Sequential, Model\n",
    "from keras.layers import Dense, GRU, Flatten, TimeDistributed, Flatten, BatchNormalization, Activation\n",
    "from keras.layers.convolutional import Conv3D, MaxPooling3D, Conv2D, MaxPooling2D\n",
    "from keras.layers.recurrent import LSTM\n",
    "from keras.callbacks import ModelCheckpoint, ReduceLROnPlateau\n",
    "from keras import optimizers\n",
    "from keras.layers import Dropout"
   ]
  },
  {
   "cell_type": "code",
   "execution_count": 5,
   "metadata": {},
   "outputs": [],
   "source": [
    "project_folder='datasets/Project_data'"
   ]
  },
  {
   "cell_type": "code",
   "execution_count": 6,
   "metadata": {},
   "outputs": [],
   "source": [
    "# Plotting losses and accuarcies\n",
    "def plot(history):\n",
    "    fig, axes = plt.subplots(nrows=1, ncols=2, figsize=(15,4))\n",
    "    axes[0].plot(history.history['loss'])   \n",
    "    axes[0].plot(history.history['val_loss'])\n",
    "    axes[0].legend(['loss','val_loss'])\n",
    "\n",
    "    axes[1].plot(history.history['categorical_accuracy'])   \n",
    "    axes[1].plot(history.history['val_categorical_accuracy'])\n",
    "    axes[1].legend(['categorical_accuracy','val_categorical_accuracy'])"
   ]
  },
  {
   "cell_type": "markdown",
   "metadata": {},
   "source": [
    "## Generator\n",
    "This is one of the most important part of the code. The overall structure of the generator has been given. In the generator, you are going to preprocess the images as you have images of 2 different dimensions as well as create a batch of video frames. You have to experiment with `img_idx`, `y`,`z` and normalization such that you get high accuracy."
   ]
  },
  {
   "cell_type": "code",
   "execution_count": 7,
   "metadata": {},
   "outputs": [],
   "source": [
    "class GenModel(metaclass= abc.ABCMeta):\n",
    "    \n",
    "    def initialize_path(self,project_folder):\n",
    "        self.train_doc = np.random.permutation(open(project_folder + '/' + 'train.csv').readlines())\n",
    "        self.val_doc = np.random.permutation(open(project_folder + '/' + 'val.csv').readlines())\n",
    "        self.train_path = project_folder + '/' + 'train'\n",
    "        self.val_path =  project_folder + '/' + 'val'\n",
    "        self.num_train_sequences = len(self.train_doc)\n",
    "        self.num_val_sequences = len(self.val_doc)\n",
    "        \n",
    "    def initialize_image_properties(self,image_height=100,image_width=100):\n",
    "        self.image_height=image_height\n",
    "        self.image_width=image_width\n",
    "        self.channels=3\n",
    "        self.num_classes=5\n",
    "        self.total_frames=30\n",
    "          \n",
    "    def initialize_hyperparams(self,frames_to_sample=30,batch_size=20,num_epochs=20):\n",
    "        self.frames_to_sample=frames_to_sample\n",
    "        self.batch_size=batch_size\n",
    "        self.num_epochs=num_epochs\n",
    "        \n",
    "        \n",
    "    def generator(self,source_path, folder_list, augment=False):\n",
    "        img_idx = np.round(np.linspace(0,self.total_frames-1,self.frames_to_sample)).astype(int)\n",
    "        batch_size=self.batch_size\n",
    "        while True:\n",
    "            t = np.random.permutation(folder_list)\n",
    "            num_batches = len(t)//batch_size\n",
    "        \n",
    "            for batch in range(num_batches): \n",
    "                batch_data, batch_labels= self.one_batch_data(source_path,t,batch,batch_size,img_idx,augment)\n",
    "                yield batch_data, batch_labels \n",
    "\n",
    "            remaining_seq=len(t)%batch_size\n",
    "        \n",
    "            if (remaining_seq != 0):\n",
    "                batch_data, batch_labels= self.one_batch_data(source_path,t,num_batches,batch_size,img_idx,augment,remaining_seq)\n",
    "                yield batch_data, batch_labels \n",
    "    \n",
    "    \n",
    "    def one_batch_data(self,source_path,t,batch,batch_size,img_idx,augment,remaining_seq=0):\n",
    "    \n",
    "        seq_len = remaining_seq if remaining_seq else batch_size\n",
    "    \n",
    "        batch_data = np.zeros((seq_len,len(img_idx),self.image_height,self.image_width,self.channels)) \n",
    "        batch_labels = np.zeros((seq_len,self.num_classes)) \n",
    "    \n",
    "        if (augment): batch_data_aug = np.zeros((seq_len,len(img_idx),self.image_height,self.image_width,self.channels))\n",
    "\n",
    "        \n",
    "        for folder in range(seq_len): \n",
    "            imgs = os.listdir(source_path+'/'+ t[folder + (batch*batch_size)].split(';')[0]) \n",
    "            for idx,item in enumerate(img_idx): \n",
    "                image = imread(source_path+'/'+ t[folder + (batch*batch_size)].strip().split(';')[0]+'/'+imgs[item]).astype(np.float32)\n",
    "                image_resized=resize(image,(self.image_height,self.image_width,3))\n",
    "            \n",
    "\n",
    "                batch_data[folder,idx,:,:,0] = (image_resized[:,:,0])/255\n",
    "                batch_data[folder,idx,:,:,1] = (image_resized[:,:,1])/255\n",
    "                batch_data[folder,idx,:,:,2] = (image_resized[:,:,2])/255\n",
    "            \n",
    "                if (augment):\n",
    "                    shifted = cv2.warpAffine(image, \n",
    "                                             np.float32([[1, 0, np.random.randint(-30,30)],[0, 1, np.random.randint(-30,30)]]), \n",
    "                                            (image.shape[1], image.shape[0]))\n",
    "                    \n",
    "                    gray = cv2.cvtColor(shifted,cv2.COLOR_BGR2GRAY)\n",
    "\n",
    "                    x0, y0 = np.argwhere(gray > 0).min(axis=0)\n",
    "                    x1, y1 = np.argwhere(gray > 0).max(axis=0) \n",
    "                    \n",
    "                    cropped=shifted[x0:x1,y0:y1,:]\n",
    "                    \n",
    "                    image_resized=resize(cropped,(self.image_height,self.image_width,3))\n",
    "                    \n",
    "                    #shifted = cv2.warpAffine(image_resized, \n",
    "                    #                        np.float32([[1, 0, np.random.randint(-3,3)],[0, 1, np.random.randint(-3,3)]]), \n",
    "                    #                        (image_resized.shape[1], image_resized.shape[0]))\n",
    "            \n",
    "                    batch_data_aug[folder,idx,:,:,0] = (image_resized[:,:,0])/255\n",
    "                    batch_data_aug[folder,idx,:,:,1] = (image_resized[:,:,1])/255\n",
    "                    batch_data_aug[folder,idx,:,:,2] = (image_resized[:,:,2])/255\n",
    "                \n",
    "            \n",
    "            batch_labels[folder, int(t[folder + (batch*batch_size)].strip().split(';')[2])] = 1\n",
    "            \n",
    "    \n",
    "        if (augment):\n",
    "            batch_data=np.concatenate([batch_data,batch_data_aug])\n",
    "            batch_labels=np.concatenate([batch_labels,batch_labels])\n",
    "\n",
    "        \n",
    "        return(batch_data,batch_labels)\n",
    "    \n",
    "    \n",
    "    def train_model(self, model, augment_data=False):\n",
    "        train_generator = self.generator(self.train_path, self.train_doc,augment=augment_data)\n",
    "        val_generator = self.generator(self.val_path, self.val_doc)\n",
    "\n",
    "        model_name = 'model_init' + '_' + str(datetime.datetime.now()).replace(' ','').replace(':','_') + '/'\n",
    "    \n",
    "        if not os.path.exists(model_name):\n",
    "            os.mkdir(model_name)\n",
    "        \n",
    "        filepath = model_name + 'model-{epoch:05d}-{loss:.5f}-{categorical_accuracy:.5f}-{val_loss:.5f}-{val_categorical_accuracy:.5f}.h5'\n",
    "\n",
    "        checkpoint = ModelCheckpoint(filepath, monitor='val_loss', verbose=1, save_best_only=False, save_weights_only=False, mode='auto', period=1)\n",
    "        LR = ReduceLROnPlateau(monitor='val_loss', factor=0.2, verbose=1, patience=4)\n",
    "        callbacks_list = [checkpoint, LR]\n",
    "\n",
    "        if (self.num_train_sequences%self.batch_size) == 0:\n",
    "            steps_per_epoch = int(self.num_train_sequences/self.batch_size)\n",
    "        else:\n",
    "            steps_per_epoch = (self.num_train_sequences//self.batch_size) + 1\n",
    "\n",
    "        if (self.num_val_sequences%self.batch_size) == 0:\n",
    "            validation_steps = int(self.num_val_sequences/self.batch_size)\n",
    "        else:\n",
    "            validation_steps = (self.num_val_sequences//self.batch_size) + 1\n",
    "    \n",
    "        history=model.fit_generator(train_generator, steps_per_epoch=steps_per_epoch, epochs=self.num_epochs, verbose=1, \n",
    "                            callbacks=callbacks_list, validation_data=val_generator, \n",
    "                            validation_steps=validation_steps, class_weight=None, workers=1, initial_epoch=0)\n",
    "        return history\n",
    "\n",
    "        \n",
    "    @abc.abstractmethod\n",
    "    def define_model(self):\n",
    "        pass"
   ]
  },
  {
   "cell_type": "markdown",
   "metadata": {},
   "source": [
    "## Model\n",
    "Here you make the model using different functionalities that Keras provides. Remember to use `Conv3D` and `MaxPooling3D` and not `Conv2D` and `Maxpooling2D` for a 3D convolution model. You would want to use `TimeDistributed` while building a Conv2D + RNN model. Also remember that the last layer is the softmax. Design the network in such a way that the model is able to give good accuracy on the least number of parameters so that it can fit in the memory of the webcam."
   ]
  },
  {
   "cell_type": "markdown",
   "metadata": {},
   "source": [
    "## Sample Model"
   ]
  },
  {
   "cell_type": "code",
   "execution_count": 21,
   "metadata": {},
   "outputs": [],
   "source": [
    "class Conv3DModel_1(GenModel):\n",
    "    \n",
    "    def define_model(self):\n",
    "\n",
    "        model = Sequential()\n",
    "        model.add(Conv3D(16, (3, 3, 3), padding='same',\n",
    "                 input_shape=(self.frames_to_sample,self.image_height,self.image_width,self.channels)))\n",
    "        model.add(Activation('relu'))\n",
    "        model.add(BatchNormalization())\n",
    "        model.add(MaxPooling3D(pool_size=(2, 2, 2)))\n",
    "\n",
    "        model.add(Conv3D(32, (2, 2, 2), padding='same'))\n",
    "        model.add(Activation('relu'))\n",
    "        model.add(BatchNormalization())\n",
    "        model.add(MaxPooling3D(pool_size=(2, 2, 2)))\n",
    "\n",
    "        model.add(Conv3D(64, (2, 2, 2), padding='same'))\n",
    "        model.add(Activation('relu'))\n",
    "        model.add(BatchNormalization())\n",
    "        model.add(MaxPooling3D(pool_size=(2, 2, 2)))\n",
    "\n",
    "        model.add(Conv3D(128, (2, 2, 2), padding='same'))\n",
    "        model.add(Activation('relu'))\n",
    "        model.add(BatchNormalization())\n",
    "        model.add(MaxPooling3D(pool_size=(2, 2, 2)))\n",
    "\n",
    "        model.add(Flatten())\n",
    "        model.add(Dense(128,activation='relu'))\n",
    "        model.add(BatchNormalization())\n",
    "        model.add(Dropout(0.5))\n",
    "\n",
    "        model.add(Dense(64,activation='relu'))\n",
    "        model.add(BatchNormalization())\n",
    "        model.add(Dropout(0.25))\n",
    "\n",
    "\n",
    "        model.add(Dense(self.num_classes,activation='softmax'))\n",
    "\n",
    "        optimiser = tf.optimizers.Adam()\n",
    "        model.compile(optimizer=optimiser, loss='categorical_crossentropy', metrics=['categorical_accuracy'])\n",
    "        return model"
   ]
  },
  {
   "cell_type": "code",
   "execution_count": 22,
   "metadata": {
    "scrolled": true
   },
   "outputs": [
    {
     "name": "stdout",
     "output_type": "stream",
     "text": [
      "Model: \"sequential_8\"\n",
      "_________________________________________________________________\n",
      " Layer (type)                Output Shape              Param #   \n",
      "=================================================================\n",
      " conv3d_32 (Conv3D)          (None, 30, 160, 160, 16)  1312      \n",
      "                                                                 \n",
      " activation_32 (Activation)  (None, 30, 160, 160, 16)  0         \n",
      "                                                                 \n",
      " batch_normalization_48 (Bat  (None, 30, 160, 160, 16)  64       \n",
      " chNormalization)                                                \n",
      "                                                                 \n",
      " max_pooling3d_32 (MaxPoolin  (None, 15, 80, 80, 16)   0         \n",
      " g3D)                                                            \n",
      "                                                                 \n",
      " conv3d_33 (Conv3D)          (None, 15, 80, 80, 32)    4128      \n",
      "                                                                 \n",
      " activation_33 (Activation)  (None, 15, 80, 80, 32)    0         \n",
      "                                                                 \n",
      " batch_normalization_49 (Bat  (None, 15, 80, 80, 32)   128       \n",
      " chNormalization)                                                \n",
      "                                                                 \n",
      " max_pooling3d_33 (MaxPoolin  (None, 7, 40, 40, 32)    0         \n",
      " g3D)                                                            \n",
      "                                                                 \n",
      " conv3d_34 (Conv3D)          (None, 7, 40, 40, 64)     16448     \n",
      "                                                                 \n",
      " activation_34 (Activation)  (None, 7, 40, 40, 64)     0         \n",
      "                                                                 \n",
      " batch_normalization_50 (Bat  (None, 7, 40, 40, 64)    256       \n",
      " chNormalization)                                                \n",
      "                                                                 \n",
      " max_pooling3d_34 (MaxPoolin  (None, 3, 20, 20, 64)    0         \n",
      " g3D)                                                            \n",
      "                                                                 \n",
      " conv3d_35 (Conv3D)          (None, 3, 20, 20, 128)    65664     \n",
      "                                                                 \n",
      " activation_35 (Activation)  (None, 3, 20, 20, 128)    0         \n",
      "                                                                 \n",
      " batch_normalization_51 (Bat  (None, 3, 20, 20, 128)   512       \n",
      " chNormalization)                                                \n",
      "                                                                 \n",
      " max_pooling3d_35 (MaxPoolin  (None, 1, 10, 10, 128)   0         \n",
      " g3D)                                                            \n",
      "                                                                 \n",
      " flatten_8 (Flatten)         (None, 12800)             0         \n",
      "                                                                 \n",
      " dense_24 (Dense)            (None, 128)               1638528   \n",
      "                                                                 \n",
      " batch_normalization_52 (Bat  (None, 128)              512       \n",
      " chNormalization)                                                \n",
      "                                                                 \n",
      " dropout_16 (Dropout)        (None, 128)               0         \n",
      "                                                                 \n",
      " dense_25 (Dense)            (None, 64)                8256      \n",
      "                                                                 \n",
      " batch_normalization_53 (Bat  (None, 64)               256       \n",
      " chNormalization)                                                \n",
      "                                                                 \n",
      " dropout_17 (Dropout)        (None, 64)                0         \n",
      "                                                                 \n",
      " dense_26 (Dense)            (None, 5)                 325       \n",
      "                                                                 \n",
      "=================================================================\n",
      "Total params: 1,736,389\n",
      "Trainable params: 1,735,525\n",
      "Non-trainable params: 864\n",
      "_________________________________________________________________\n"
     ]
    }
   ],
   "source": [
    "conv_3d_1=Conv3DModel_1()\n",
    "conv_3d_1.initialize_path(project_folder)\n",
    "conv_3d_1.initialize_image_properties(image_height=160,image_width=160)\n",
    "conv_3d_1.initialize_hyperparams(frames_to_sample=30,batch_size=40,num_epochs=1)\n",
    "conv_3d_model_1=conv_3d_1.define_model()\n",
    "conv_3d_model_1.summary()"
   ]
  },
  {
   "cell_type": "markdown",
   "metadata": {},
   "source": [
    "##### Let's do some experiments to see how training time is affected by number of images in sequence, batch size, and resolution"
   ]
  },
  {
   "cell_type": "code",
   "execution_count": 24,
   "metadata": {},
   "outputs": [
    {
     "name": "stdout",
     "output_type": "stream",
     "text": [
      "Total Params: 1736389\n",
      "WARNING:tensorflow:`period` argument is deprecated. Please use `save_freq` to specify the frequency in number of batches seen.\n",
      "Epoch 1/3\n",
      "23/23 [==============================] - ETA: 0s - loss: 1.5422 - categorical_accuracy: 0.4268\n",
      "Epoch 00001: saving model to model_init_2023-02-1207_46_21.095711/model-00001-1.54220-0.42685-2.05031-0.20000.h5\n",
      "23/23 [==============================] - 100s 4s/step - loss: 1.5422 - categorical_accuracy: 0.4268 - val_loss: 2.0503 - val_categorical_accuracy: 0.2000 - lr: 0.0010\n",
      "Epoch 2/3\n",
      "23/23 [==============================] - ETA: 0s - loss: 0.9338 - categorical_accuracy: 0.6335\n",
      "Epoch 00002: saving model to model_init_2023-02-1207_46_21.095711/model-00002-0.93378-0.63348-3.54832-0.19000.h5\n",
      "23/23 [==============================] - 98s 4s/step - loss: 0.9338 - categorical_accuracy: 0.6335 - val_loss: 3.5483 - val_categorical_accuracy: 0.1900 - lr: 0.0010\n",
      "Epoch 3/3\n",
      "23/23 [==============================] - ETA: 0s - loss: 0.7862 - categorical_accuracy: 0.6772\n",
      "Epoch 00003: saving model to model_init_2023-02-1207_46_21.095711/model-00003-0.78621-0.67722-4.29973-0.17000.h5\n",
      "23/23 [==============================] - 98s 4s/step - loss: 0.7862 - categorical_accuracy: 0.6772 - val_loss: 4.2997 - val_categorical_accuracy: 0.1700 - lr: 0.0010\n"
     ]
    },
    {
     "data": {
      "text/plain": [
       "<keras.callbacks.History at 0x7fb9611f2250>"
      ]
     },
     "execution_count": 24,
     "metadata": {},
     "output_type": "execute_result"
    }
   ],
   "source": [
    "conv_3d_tt1=Conv3DModel_1()\n",
    "conv_3d_tt1.initialize_path(project_folder)\n",
    "conv_3d_tt1.initialize_image_properties(image_height=160,image_width=160)\n",
    "conv_3d_tt1.initialize_hyperparams(frames_to_sample=16,batch_size=30,num_epochs=3)\n",
    "conv_3d_model_tt1=conv_3d_tt1.define_model()\n",
    "print(\"Total Params:\", conv_3d_model_tt1.count_params())\n",
    "conv_3d_tt1.train_model(conv_3d_model_tt1)"
   ]
  },
  {
   "cell_type": "code",
   "execution_count": 25,
   "metadata": {},
   "outputs": [
    {
     "name": "stdout",
     "output_type": "stream",
     "text": [
      "Total Params: 1736389\n",
      "WARNING:tensorflow:`period` argument is deprecated. Please use `save_freq` to specify the frequency in number of batches seen.\n",
      "Epoch 1/2\n",
      "45/45 [==============================] - ETA: 0s - loss: 1.5157 - categorical_accuracy: 0.4314\n",
      "Epoch 00001: saving model to model_init_2023-02-1207_57_12.308558/model-00001-1.51574-0.43137-2.94048-0.21000.h5\n",
      "45/45 [==============================] - 189s 4s/step - loss: 1.5157 - categorical_accuracy: 0.4314 - val_loss: 2.9405 - val_categorical_accuracy: 0.2100 - lr: 0.0010\n",
      "Epoch 2/2\n",
      "45/45 [==============================] - ETA: 0s - loss: 0.9661 - categorical_accuracy: 0.6124\n",
      "Epoch 00002: saving model to model_init_2023-02-1207_57_12.308558/model-00002-0.96606-0.61237-4.36158-0.20000.h5\n",
      "45/45 [==============================] - 194s 4s/step - loss: 0.9661 - categorical_accuracy: 0.6124 - val_loss: 4.3616 - val_categorical_accuracy: 0.2000 - lr: 0.0010\n"
     ]
    },
    {
     "data": {
      "text/plain": [
       "<keras.callbacks.History at 0x7fb9202f64f0>"
      ]
     },
     "execution_count": 25,
     "metadata": {},
     "output_type": "execute_result"
    }
   ],
   "source": [
    "conv_3d_tt2=Conv3DModel_1()\n",
    "conv_3d_tt2.initialize_path(project_folder)\n",
    "conv_3d_tt2.initialize_image_properties(image_height=160,image_width=160)\n",
    "conv_3d_tt2.initialize_hyperparams(frames_to_sample=30,batch_size=15,num_epochs=2)\n",
    "conv_3d_model_tt2=conv_3d_tt2.define_model()\n",
    "print(\"Total Params:\", conv_3d_model_tt2.count_params())\n",
    "conv_3d_tt2.train_model(conv_3d_model_tt2)"
   ]
  },
  {
   "cell_type": "code",
   "execution_count": 26,
   "metadata": {},
   "outputs": [
    {
     "name": "stdout",
     "output_type": "stream",
     "text": [
      "Total Params: 1736389\n",
      "WARNING:tensorflow:`period` argument is deprecated. Please use `save_freq` to specify the frequency in number of batches seen.\n",
      "Epoch 1/2\n",
      "17/17 [==============================] - ETA: 0s - loss: 1.6142 - categorical_accuracy: 0.4148\n",
      "Epoch 00001: saving model to model_init_2023-02-1208_07_35.307871/model-00001-1.61421-0.41478-3.07987-0.16000.h5\n",
      "17/17 [==============================] - 100s 6s/step - loss: 1.6142 - categorical_accuracy: 0.4148 - val_loss: 3.0799 - val_categorical_accuracy: 0.1600 - lr: 0.0010\n",
      "Epoch 2/2\n",
      "17/17 [==============================] - ETA: 0s - loss: 0.8650 - categorical_accuracy: 0.6727\n",
      "Epoch 00002: saving model to model_init_2023-02-1208_07_35.307871/model-00002-0.86503-0.67270-5.65622-0.20000.h5\n",
      "17/17 [==============================] - 98s 6s/step - loss: 0.8650 - categorical_accuracy: 0.6727 - val_loss: 5.6562 - val_categorical_accuracy: 0.2000 - lr: 0.0010\n"
     ]
    },
    {
     "data": {
      "text/plain": [
       "<keras.callbacks.History at 0x7fb8a4ac4bb0>"
      ]
     },
     "execution_count": 26,
     "metadata": {},
     "output_type": "execute_result"
    }
   ],
   "source": [
    "conv_3d_tt3=Conv3DModel_1()\n",
    "conv_3d_tt3.initialize_path(project_folder)\n",
    "conv_3d_tt3.initialize_image_properties(image_height=160,image_width=160)\n",
    "conv_3d_tt3.initialize_hyperparams(frames_to_sample=16,batch_size=40,num_epochs=2)\n",
    "conv_3d_model_tt3=conv_3d_tt3.define_model()\n",
    "print(\"Total Params:\", conv_3d_model_tt3.count_params())\n",
    "conv_3d_tt3.train_model(conv_3d_model_tt3)"
   ]
  },
  {
   "cell_type": "code",
   "execution_count": 27,
   "metadata": {},
   "outputs": [
    {
     "name": "stdout",
     "output_type": "stream",
     "text": [
      "Total Params: 687813\n",
      "WARNING:tensorflow:`period` argument is deprecated. Please use `save_freq` to specify the frequency in number of batches seen.\n",
      "Epoch 1/2\n",
      "23/23 [==============================] - ETA: 0s - loss: 1.4783 - categorical_accuracy: 0.4419\n",
      "Epoch 00001: saving model to model_init_2023-02-1208_12_51.927845/model-00001-1.47831-0.44193-2.48857-0.21000.h5\n",
      "23/23 [==============================] - 166s 7s/step - loss: 1.4783 - categorical_accuracy: 0.4419 - val_loss: 2.4886 - val_categorical_accuracy: 0.2100 - lr: 0.0010\n",
      "Epoch 2/2\n",
      "23/23 [==============================] - ETA: 0s - loss: 0.9301 - categorical_accuracy: 0.6365\n",
      "Epoch 00002: saving model to model_init_2023-02-1208_12_51.927845/model-00002-0.93007-0.63650-4.25273-0.17000.h5\n",
      "23/23 [==============================] - 161s 7s/step - loss: 0.9301 - categorical_accuracy: 0.6365 - val_loss: 4.2527 - val_categorical_accuracy: 0.1700 - lr: 0.0010\n"
     ]
    },
    {
     "data": {
      "text/plain": [
       "<keras.callbacks.History at 0x7fb934229a60>"
      ]
     },
     "execution_count": 27,
     "metadata": {},
     "output_type": "execute_result"
    }
   ],
   "source": [
    "conv_3d_tt4=Conv3DModel_1()\n",
    "conv_3d_tt4.initialize_path(project_folder)\n",
    "conv_3d_tt4.initialize_image_properties(image_height=100,image_width=100)\n",
    "conv_3d_tt4.initialize_hyperparams(frames_to_sample=30,batch_size=30,num_epochs=2)\n",
    "conv_3d_model_tt4=conv_3d_tt4.define_model()\n",
    "print(\"Total Params:\", conv_3d_model_tt4.count_params())\n",
    "conv_3d_tt4.train_model(conv_3d_model_tt4)"
   ]
  },
  {
   "cell_type": "code",
   "execution_count": 28,
   "metadata": {},
   "outputs": [
    {
     "name": "stdout",
     "output_type": "stream",
     "text": [
      "Total Params: 687813\n",
      "WARNING:tensorflow:`period` argument is deprecated. Please use `save_freq` to specify the frequency in number of batches seen.\n",
      "Epoch 1/2\n",
      "9/9 [==============================] - ETA: 0s - loss: 1.7315 - categorical_accuracy: 0.3816 \n",
      "Epoch 00001: saving model to model_init_2023-02-1208_21_49.549389/model-00001-1.73148-0.38160-1.63860-0.21000.h5\n",
      "9/9 [==============================] - 112s 14s/step - loss: 1.7315 - categorical_accuracy: 0.3816 - val_loss: 1.6386 - val_categorical_accuracy: 0.2100 - lr: 0.0010\n",
      "Epoch 2/2\n",
      "9/9 [==============================] - ETA: 0s - loss: 1.0799 - categorical_accuracy: 0.6033\n",
      "Epoch 00002: saving model to model_init_2023-02-1208_21_49.549389/model-00002-1.07991-0.60332-1.97544-0.14000.h5\n",
      "9/9 [==============================] - 88s 11s/step - loss: 1.0799 - categorical_accuracy: 0.6033 - val_loss: 1.9754 - val_categorical_accuracy: 0.1400 - lr: 0.0010\n"
     ]
    },
    {
     "data": {
      "text/plain": [
       "<keras.callbacks.History at 0x7fb8a4857d30>"
      ]
     },
     "execution_count": 28,
     "metadata": {},
     "output_type": "execute_result"
    }
   ],
   "source": [
    "conv_3d_tt5=Conv3DModel_1()\n",
    "conv_3d_tt5.initialize_path(project_folder)\n",
    "conv_3d_tt5.initialize_image_properties(image_height=100,image_width=100)\n",
    "conv_3d_tt5.initialize_hyperparams(frames_to_sample=16,batch_size=80,num_epochs=2)\n",
    "conv_3d_model_tt5=conv_3d_tt5.define_model()\n",
    "print(\"Total Params:\", conv_3d_model_tt5.count_params())\n",
    "conv_3d_tt5.train_model(conv_3d_model_tt5)"
   ]
  },
  {
   "cell_type": "code",
   "execution_count": 30,
   "metadata": {},
   "outputs": [
    {
     "name": "stdout",
     "output_type": "stream",
     "text": [
      "Total Params: 687813\n",
      "WARNING:tensorflow:`period` argument is deprecated. Please use `save_freq` to specify the frequency in number of batches seen.\n",
      "Epoch 1/2\n",
      "45/45 [==============================] - ETA: 0s - loss: 1.5238 - categorical_accuracy: 0.4449\n",
      "Epoch 00001: saving model to model_init_2023-02-1208_38_38.980078/model-00001-1.52375-0.44495-3.76513-0.16000.h5\n",
      "45/45 [==============================] - 88s 2s/step - loss: 1.5238 - categorical_accuracy: 0.4449 - val_loss: 3.7651 - val_categorical_accuracy: 0.1600 - lr: 0.0010\n",
      "Epoch 2/2\n",
      "45/45 [==============================] - ETA: 0s - loss: 0.9805 - categorical_accuracy: 0.6169\n",
      "Epoch 00002: saving model to model_init_2023-02-1208_38_38.980078/model-00002-0.98051-0.61689-8.74291-0.15000.h5\n",
      "45/45 [==============================] - 87s 2s/step - loss: 0.9805 - categorical_accuracy: 0.6169 - val_loss: 8.7429 - val_categorical_accuracy: 0.1500 - lr: 0.0010\n"
     ]
    },
    {
     "data": {
      "text/plain": [
       "<keras.callbacks.History at 0x7fb8a41c0cd0>"
      ]
     },
     "execution_count": 30,
     "metadata": {},
     "output_type": "execute_result"
    }
   ],
   "source": [
    "conv_3d_tt6=Conv3DModel_1()\n",
    "conv_3d_tt6.initialize_path(project_folder)\n",
    "conv_3d_tt6.initialize_image_properties(image_height=100,image_width=100)\n",
    "conv_3d_tt6.initialize_hyperparams(frames_to_sample=16,batch_size=15,num_epochs=2)\n",
    "conv_3d_model_tt6=conv_3d_tt6.define_model()\n",
    "print(\"Total Params:\", conv_3d_model_tt6.count_params())\n",
    "conv_3d_tt6.train_model(conv_3d_model_tt6)"
   ]
  },
  {
   "cell_type": "code",
   "execution_count": 31,
   "metadata": {},
   "outputs": [
    {
     "name": "stdout",
     "output_type": "stream",
     "text": [
      "Total Params: 687813\n",
      "WARNING:tensorflow:`period` argument is deprecated. Please use `save_freq` to specify the frequency in number of batches seen.\n",
      "Epoch 1/2\n",
      "67/67 [==============================] - ETA: 0s - loss: 1.7010 - categorical_accuracy: 0.3922\n",
      "Epoch 00001: saving model to model_init_2023-02-1208_44_46.768229/model-00001-1.70100-0.39216-7.09376-0.14000.h5\n",
      "67/67 [==============================] - 87s 1s/step - loss: 1.7010 - categorical_accuracy: 0.3922 - val_loss: 7.0938 - val_categorical_accuracy: 0.1400 - lr: 0.0010\n",
      "Epoch 2/2\n",
      "67/67 [==============================] - ETA: 0s - loss: 1.1446 - categorical_accuracy: 0.5520\n",
      "Epoch 00002: saving model to model_init_2023-02-1208_44_46.768229/model-00002-1.14456-0.55204-9.44038-0.17000.h5\n",
      "67/67 [==============================] - 88s 1s/step - loss: 1.1446 - categorical_accuracy: 0.5520 - val_loss: 9.4404 - val_categorical_accuracy: 0.1700 - lr: 0.0010\n"
     ]
    },
    {
     "data": {
      "text/plain": [
       "<keras.callbacks.History at 0x7fb89de6e790>"
      ]
     },
     "execution_count": 31,
     "metadata": {},
     "output_type": "execute_result"
    }
   ],
   "source": [
    "conv_3d_tt7=Conv3DModel_1()\n",
    "conv_3d_tt7.initialize_path(project_folder)\n",
    "conv_3d_tt7.initialize_image_properties(image_height=100,image_width=100)\n",
    "conv_3d_tt7.initialize_hyperparams(frames_to_sample=16,batch_size=10,num_epochs=2)\n",
    "conv_3d_model_tt7=conv_3d_tt7.define_model()\n",
    "print(\"Total Params:\", conv_3d_model_tt7.count_params())\n",
    "conv_3d_tt7.train_model(conv_3d_model_tt7)"
   ]
  },
  {
   "cell_type": "markdown",
   "metadata": {},
   "source": [
    "##### Here, we can observe the above experiments image resolution and number of frames in sequence have more impact on training time than batch_size"
   ]
  },
  {
   "cell_type": "markdown",
   "metadata": {},
   "source": [
    "# Model 1\n",
    "### Base Model - No Data Augmentation Batch Size 40 and Epoch 15"
   ]
  },
  {
   "cell_type": "code",
   "execution_count": 16,
   "metadata": {},
   "outputs": [],
   "source": [
    "class Conv3DModel_Base1(GenModel):\n",
    "    \n",
    "    def define_model(self,filtersize=(3,3,3),dense_neurons=64,dropout=0.25):\n",
    "\n",
    "        model = Sequential()\n",
    "        model.add(Conv3D(16, filtersize, padding='same',\n",
    "                 input_shape=(self.frames_to_sample,self.image_height,self.image_width,self.channels)))\n",
    "        model.add(Activation('relu'))\n",
    "        model.add(BatchNormalization())\n",
    "        model.add(MaxPooling3D(pool_size=(2, 2, 2)))\n",
    "\n",
    "        model.add(Conv3D(32, filtersize, padding='same'))\n",
    "        model.add(Activation('relu'))\n",
    "        model.add(BatchNormalization())\n",
    "        model.add(MaxPooling3D(pool_size=(2, 2, 2)))\n",
    "\n",
    "        model.add(Conv3D(64, filtersize, padding='same'))\n",
    "        model.add(Activation('relu'))\n",
    "        model.add(BatchNormalization())\n",
    "        model.add(MaxPooling3D(pool_size=(2, 2, 2)))\n",
    "\n",
    "        model.add(Conv3D(128, filtersize, padding='same'))\n",
    "        model.add(Activation('relu'))\n",
    "        model.add(BatchNormalization())\n",
    "        model.add(MaxPooling3D(pool_size=(2, 2, 2)))\n",
    "\n",
    "        model.add(Flatten())\n",
    "        model.add(Dense(dense_neurons,activation='relu'))\n",
    "        model.add(BatchNormalization())\n",
    "        model.add(Dropout(dropout))\n",
    "\n",
    "        model.add(Dense(dense_neurons,activation='relu'))\n",
    "        model.add(BatchNormalization())\n",
    "        model.add(Dropout(dropout))\n",
    "\n",
    "\n",
    "        model.add(Dense(self.num_classes,activation='softmax'))\n",
    "\n",
    "        optimiser = tf.optimizers.Adam()\n",
    "        model.compile(optimizer=optimiser, loss='categorical_crossentropy', metrics=['categorical_accuracy'])\n",
    "        return model"
   ]
  },
  {
   "cell_type": "code",
   "execution_count": 18,
   "metadata": {},
   "outputs": [
    {
     "name": "stdout",
     "output_type": "stream",
     "text": [
      "Model: \"sequential_1\"\n",
      "_________________________________________________________________\n",
      " Layer (type)                Output Shape              Param #   \n",
      "=================================================================\n",
      " conv3d_4 (Conv3D)           (None, 20, 160, 160, 16)  1312      \n",
      "                                                                 \n",
      " activation_4 (Activation)   (None, 20, 160, 160, 16)  0         \n",
      "                                                                 \n",
      " batch_normalization_6 (Batc  (None, 20, 160, 160, 16)  64       \n",
      " hNormalization)                                                 \n",
      "                                                                 \n",
      " max_pooling3d_4 (MaxPooling  (None, 10, 80, 80, 16)   0         \n",
      " 3D)                                                             \n",
      "                                                                 \n",
      " conv3d_5 (Conv3D)           (None, 10, 80, 80, 32)    13856     \n",
      "                                                                 \n",
      " activation_5 (Activation)   (None, 10, 80, 80, 32)    0         \n",
      "                                                                 \n",
      " batch_normalization_7 (Batc  (None, 10, 80, 80, 32)   128       \n",
      " hNormalization)                                                 \n",
      "                                                                 \n",
      " max_pooling3d_5 (MaxPooling  (None, 5, 40, 40, 32)    0         \n",
      " 3D)                                                             \n",
      "                                                                 \n",
      " conv3d_6 (Conv3D)           (None, 5, 40, 40, 64)     55360     \n",
      "                                                                 \n",
      " activation_6 (Activation)   (None, 5, 40, 40, 64)     0         \n",
      "                                                                 \n",
      " batch_normalization_8 (Batc  (None, 5, 40, 40, 64)    256       \n",
      " hNormalization)                                                 \n",
      "                                                                 \n",
      " max_pooling3d_6 (MaxPooling  (None, 2, 20, 20, 64)    0         \n",
      " 3D)                                                             \n",
      "                                                                 \n",
      " conv3d_7 (Conv3D)           (None, 2, 20, 20, 128)    221312    \n",
      "                                                                 \n",
      " activation_7 (Activation)   (None, 2, 20, 20, 128)    0         \n",
      "                                                                 \n",
      " batch_normalization_9 (Batc  (None, 2, 20, 20, 128)   512       \n",
      " hNormalization)                                                 \n",
      "                                                                 \n",
      " max_pooling3d_7 (MaxPooling  (None, 1, 10, 10, 128)   0         \n",
      " 3D)                                                             \n",
      "                                                                 \n",
      " flatten_1 (Flatten)         (None, 12800)             0         \n",
      "                                                                 \n",
      " dense_3 (Dense)             (None, 64)                819264    \n",
      "                                                                 \n",
      " batch_normalization_10 (Bat  (None, 64)               256       \n",
      " chNormalization)                                                \n",
      "                                                                 \n",
      " dropout_2 (Dropout)         (None, 64)                0         \n",
      "                                                                 \n",
      " dense_4 (Dense)             (None, 64)                4160      \n",
      "                                                                 \n",
      " batch_normalization_11 (Bat  (None, 64)               256       \n",
      " chNormalization)                                                \n",
      "                                                                 \n",
      " dropout_3 (Dropout)         (None, 64)                0         \n",
      "                                                                 \n",
      " dense_5 (Dense)             (None, 5)                 325       \n",
      "                                                                 \n",
      "=================================================================\n",
      "Total params: 1,117,061\n",
      "Trainable params: 1,116,325\n",
      "Non-trainable params: 736\n",
      "_________________________________________________________________\n"
     ]
    }
   ],
   "source": [
    "conv_3d_base1=Conv3DModel_Base1()\n",
    "conv_3d_base1.initialize_path(project_folder)\n",
    "conv_3d_base1.initialize_image_properties(image_height=160,image_width=160)\n",
    "conv_3d_base1.initialize_hyperparams(frames_to_sample=20,batch_size=40,num_epochs=15)\n",
    "conv_3d_model_base1=conv_3d_base1.define_model()\n",
    "conv_3d_model_base1.summary()"
   ]
  },
  {
   "cell_type": "code",
   "execution_count": 20,
   "metadata": {},
   "outputs": [
    {
     "name": "stdout",
     "output_type": "stream",
     "text": [
      "Total Params: 1117061\n",
      "WARNING:tensorflow:`period` argument is deprecated. Please use `save_freq` to specify the frequency in number of batches seen.\n",
      "Epoch 1/15\n"
     ]
    },
    {
     "name": "stderr",
     "output_type": "stream",
     "text": [
      "2023-02-12 10:14:03.053218: I tensorflow/stream_executor/cuda/cuda_dnn.cc:377] Loaded cuDNN version 8302\n"
     ]
    },
    {
     "name": "stdout",
     "output_type": "stream",
     "text": [
      "17/17 [==============================] - ETA: 0s - loss: 1.4931 - categorical_accuracy: 0.4389\n",
      "Epoch 00001: saving model to model_init_2023-02-1210_13_54.367846/model-00001-1.49309-0.43891-1.70041-0.17000.h5\n",
      "17/17 [==============================] - 124s 7s/step - loss: 1.4931 - categorical_accuracy: 0.4389 - val_loss: 1.7004 - val_categorical_accuracy: 0.1700 - lr: 0.0010\n",
      "Epoch 2/15\n",
      "17/17 [==============================] - ETA: 0s - loss: 0.9704 - categorical_accuracy: 0.6109\n",
      "Epoch 00002: saving model to model_init_2023-02-1210_13_54.367846/model-00002-0.97036-0.61086-2.12544-0.20000.h5\n",
      "17/17 [==============================] - 124s 8s/step - loss: 0.9704 - categorical_accuracy: 0.6109 - val_loss: 2.1254 - val_categorical_accuracy: 0.2000 - lr: 0.0010\n",
      "Epoch 3/15\n",
      "17/17 [==============================] - ETA: 0s - loss: 0.6451 - categorical_accuracy: 0.7451\n",
      "Epoch 00003: saving model to model_init_2023-02-1210_13_54.367846/model-00003-0.64511-0.74510-2.57019-0.21000.h5\n",
      "17/17 [==============================] - 118s 7s/step - loss: 0.6451 - categorical_accuracy: 0.7451 - val_loss: 2.5702 - val_categorical_accuracy: 0.2100 - lr: 0.0010\n",
      "Epoch 4/15\n",
      "17/17 [==============================] - ETA: 0s - loss: 0.4373 - categorical_accuracy: 0.8507\n",
      "Epoch 00004: saving model to model_init_2023-02-1210_13_54.367846/model-00004-0.43725-0.85068-3.20056-0.21000.h5\n",
      "17/17 [==============================] - 124s 8s/step - loss: 0.4373 - categorical_accuracy: 0.8507 - val_loss: 3.2006 - val_categorical_accuracy: 0.2100 - lr: 0.0010\n",
      "Epoch 5/15\n",
      "17/17 [==============================] - ETA: 0s - loss: 0.2697 - categorical_accuracy: 0.9125\n",
      "Epoch 00005: saving model to model_init_2023-02-1210_13_54.367846/model-00005-0.26968-0.91252-3.00494-0.21000.h5\n",
      "\n",
      "Epoch 00005: ReduceLROnPlateau reducing learning rate to 0.00020000000949949026.\n",
      "17/17 [==============================] - 125s 8s/step - loss: 0.2697 - categorical_accuracy: 0.9125 - val_loss: 3.0049 - val_categorical_accuracy: 0.2100 - lr: 0.0010\n",
      "Epoch 6/15\n",
      "17/17 [==============================] - ETA: 0s - loss: 0.2231 - categorical_accuracy: 0.9351\n",
      "Epoch 00011: saving model to model_init_2023-02-1210_13_54.367846/model-00011-0.12132-0.98039-3.76763-0.16000.h5\n",
      "17/17 [==============================] - 123s 8s/step - loss: 0.1213 - categorical_accuracy: 0.9804 - val_loss: 3.7676 - val_categorical_accuracy: 0.1600 - lr: 4.0000e-05\n",
      "Epoch 12/15\n",
      "17/17 [==============================] - ETA: 0s - loss: 0.1140 - categorical_accuracy: 0.9834\n",
      "Epoch 00012: saving model to model_init_2023-02-1210_13_54.367846/model-00012-0.11404-0.98341-3.77229-0.18000.h5\n",
      "17/17 [==============================] - 120s 7s/step - loss: 0.1140 - categorical_accuracy: 0.9834 - val_loss: 3.7723 - val_categorical_accuracy: 0.1800 - lr: 4.0000e-05\n",
      "Epoch 13/15\n",
      "17/17 [==============================] - ETA: 0s - loss: 0.1112 - categorical_accuracy: 0.9864\n",
      "Epoch 00013: saving model to model_init_2023-02-1210_13_54.367846/model-00013-0.11123-0.98643-3.86876-0.16000.h5\n",
      "\n",
      "Epoch 00013: ReduceLROnPlateau reducing learning rate to 8.000000525498762e-06.\n",
      "17/17 [==============================] - 123s 8s/step - loss: 0.1112 - categorical_accuracy: 0.9864 - val_loss: 3.8688 - val_categorical_accuracy: 0.1600 - lr: 4.0000e-05\n",
      "Epoch 14/15\n",
      "17/17 [==============================] - ETA: 0s - loss: 0.1035 - categorical_accuracy: 0.9819\n",
      "Epoch 00014: saving model to model_init_2023-02-1210_13_54.367846/model-00014-0.10346-0.98190-3.74806-0.15000.h5\n",
      "17/17 [==============================] - 123s 8s/step - loss: 0.1035 - categorical_accuracy: 0.9819 - val_loss: 3.7481 - val_categorical_accuracy: 0.1500 - lr: 8.0000e-06\n",
      "Epoch 15/15\n",
      "17/17 [==============================] - ETA: 0s - loss: 0.0969 - categorical_accuracy: 0.9910\n",
      "Epoch 00015: saving model to model_init_2023-02-1210_13_54.367846/model-00015-0.09687-0.99095-3.60423-0.19000.h5\n",
      "17/17 [==============================] - 120s 7s/step - loss: 0.0969 - categorical_accuracy: 0.9910 - val_loss: 3.6042 - val_categorical_accuracy: 0.1900 - lr: 8.0000e-06\n"
     ]
    }
   ],
   "source": [
    "print(\"Total Params:\", conv_3d_model_base1.count_params())\n",
    "history_model_base1 = conv_3d_base1.train_model(conv_3d_model_base1)"
   ]
  },
  {
   "cell_type": "code",
   "execution_count": 21,
   "metadata": {},
   "outputs": [
    {
     "data": {
      "image/png": "[encoded data removed]",
      "text/plain": [
       "<Figure size 1080x288 with 2 Axes>"
      ]
     },
     "metadata": {
      "needs_background": "light"
     },
     "output_type": "display_data"
    }
   ],
   "source": [
    "plot(history_model_base1)"
   ]
  },
  {
   "cell_type": "markdown",
   "metadata": {},
   "source": [
    "### Here, we can observe the model is clearly overfitting and there is no improvement in increase of epochs so we now try for CNN LSTM model and see the train and validation accuracies for them so that we can increase or decrease the augmentation accordingly and we try to include the dropout of 25% to address overfitting of model and increase the epochs for better results."
   ]
  },
  {
   "cell_type": "markdown",
   "metadata": {},
   "source": [
    "### Now Let' try for CNN LSTM model and see the train and val accuracies for them so that we can increase or decrease the augmentation"
   ]
  },
  {
   "cell_type": "markdown",
   "metadata": {},
   "source": [
    "# Model 2 - CNN- LSTM Model"
   ]
  },
  {
   "cell_type": "code",
   "execution_count": 8,
   "metadata": {},
   "outputs": [],
   "source": [
    "class RNNCNN1(GenModel):\n",
    "    \n",
    "    def define_model(self,lstm_cells=64,dense_neurons=64,dropout=0.25):\n",
    "\n",
    "        model = Sequential()\n",
    "\n",
    "        model.add(TimeDistributed(Conv2D(16, (3, 3) , padding='same', activation='relu'),\n",
    "                                  input_shape=(self.frames_to_sample,self.image_height,self.image_width,self.channels)))\n",
    "        model.add(TimeDistributed(BatchNormalization()))\n",
    "        model.add(TimeDistributed(MaxPooling2D((2, 2))))\n",
    "        \n",
    "        model.add(TimeDistributed(Conv2D(32, (3, 3) , padding='same', activation='relu')))\n",
    "        model.add(TimeDistributed(BatchNormalization()))\n",
    "        model.add(TimeDistributed(MaxPooling2D((2, 2))))\n",
    "        \n",
    "        model.add(TimeDistributed(Conv2D(64, (3, 3) , padding='same', activation='relu')))\n",
    "        model.add(TimeDistributed(BatchNormalization()))\n",
    "        model.add(TimeDistributed(MaxPooling2D((2, 2))))\n",
    "        \n",
    "        model.add(TimeDistributed(Conv2D(128, (3, 3) , padding='same', activation='relu')))\n",
    "        model.add(TimeDistributed(BatchNormalization()))\n",
    "        model.add(TimeDistributed(MaxPooling2D((2, 2))))\n",
    "        \n",
    "        model.add(TimeDistributed(Conv2D(256, (3, 3) , padding='same', activation='relu')))\n",
    "        model.add(TimeDistributed(BatchNormalization()))\n",
    "        model.add(TimeDistributed(MaxPooling2D((2, 2))))\n",
    "        \n",
    "        #model.add(TimeDistributed(Conv2D(512, (2, 2) , padding='valid', activation='relu')))\n",
    "       # model.add(TimeDistributed(BatchNormalization()))\n",
    "       # model.add(TimeDistributed(MaxPooling2D((2, 2))))\n",
    "\n",
    "        model.add(TimeDistributed(Flatten()))\n",
    "\n",
    "\n",
    "        model.add(LSTM(lstm_cells))\n",
    "        model.add(Dropout(dropout))\n",
    "        \n",
    "        model.add(Dense(dense_neurons,activation='relu'))\n",
    "        model.add(Dropout(dropout))\n",
    "        \n",
    "        model.add(Dense(self.num_classes, activation='softmax'))\n",
    "        optimiser = tf.optimizers.Adam()\n",
    "        model.compile(optimizer=optimiser, loss='categorical_crossentropy', metrics=['categorical_accuracy'])\n",
    "        return model"
   ]
  },
  {
   "cell_type": "code",
   "execution_count": 9,
   "metadata": {},
   "outputs": [
    {
     "name": "stderr",
     "output_type": "stream",
     "text": [
      "2023-02-13 05:58:19.867116: W tensorflow/core/common_runtime/gpu/gpu_bfc_allocator.cc:39] Overriding allow_growth setting because the TF_FORCE_GPU_ALLOW_GROWTH environment variable is set. Original config value was 0.\n",
      "2023-02-13 05:58:19.867202: I tensorflow/core/common_runtime/gpu/gpu_device.cc:1525] Created device /job:localhost/replica:0/task:0/device:GPU:0 with 14802 MB memory:  -> device: 0, name: Quadro RTX 5000, pci bus id: 0000:40:00.0, compute capability: 7.5\n"
     ]
    },
    {
     "name": "stdout",
     "output_type": "stream",
     "text": [
      "Model: \"sequential\"\n",
      "_________________________________________________________________\n",
      " Layer (type)                Output Shape              Param #   \n",
      "=================================================================\n",
      " time_distributed (TimeDistr  (None, 18, 120, 120, 16)  448      \n",
      " ibuted)                                                         \n",
      "                                                                 \n",
      " time_distributed_1 (TimeDis  (None, 18, 120, 120, 16)  64       \n",
      " tributed)                                                       \n",
      "                                                                 \n",
      " time_distributed_2 (TimeDis  (None, 18, 60, 60, 16)   0         \n",
      " tributed)                                                       \n",
      "                                                                 \n",
      " time_distributed_3 (TimeDis  (None, 18, 60, 60, 32)   4640      \n",
      " tributed)                                                       \n",
      "                                                                 \n",
      " time_distributed_4 (TimeDis  (None, 18, 60, 60, 32)   128       \n",
      " tributed)                                                       \n",
      "                                                                 \n",
      " time_distributed_5 (TimeDis  (None, 18, 30, 30, 32)   0         \n",
      " tributed)                                                       \n",
      "                                                                 \n",
      " time_distributed_6 (TimeDis  (None, 18, 30, 30, 64)   18496     \n",
      " tributed)                                                       \n",
      "                                                                 \n",
      " time_distributed_7 (TimeDis  (None, 18, 30, 30, 64)   256       \n",
      " tributed)                                                       \n",
      "                                                                 \n",
      " time_distributed_8 (TimeDis  (None, 18, 15, 15, 64)   0         \n",
      " tributed)                                                       \n",
      "                                                                 \n",
      " time_distributed_9 (TimeDis  (None, 18, 15, 15, 128)  73856     \n",
      " tributed)                                                       \n",
      "                                                                 \n",
      " time_distributed_10 (TimeDi  (None, 18, 15, 15, 128)  512       \n",
      " stributed)                                                      \n",
      "                                                                 \n",
      " time_distributed_11 (TimeDi  (None, 18, 7, 7, 128)    0         \n",
      " stributed)                                                      \n",
      "                                                                 \n",
      " time_distributed_12 (TimeDi  (None, 18, 7, 7, 256)    295168    \n",
      " stributed)                                                      \n",
      "                                                                 \n",
      " time_distributed_13 (TimeDi  (None, 18, 7, 7, 256)    1024      \n",
      " stributed)                                                      \n",
      "                                                                 \n",
      " time_distributed_14 (TimeDi  (None, 18, 3, 3, 256)    0         \n",
      " stributed)                                                      \n",
      "                                                                 \n",
      " time_distributed_15 (TimeDi  (None, 18, 2304)         0         \n",
      " stributed)                                                      \n",
      "                                                                 \n",
      " lstm (LSTM)                 (None, 128)               1245696   \n",
      "                                                                 \n",
      " dropout (Dropout)           (None, 128)               0         \n",
      "                                                                 \n",
      " dense (Dense)               (None, 128)               16512     \n",
      "                                                                 \n",
      " dropout_1 (Dropout)         (None, 128)               0         \n",
      "                                                                 \n",
      " dense_1 (Dense)             (None, 5)                 645       \n",
      "                                                                 \n",
      "=================================================================\n",
      "Total params: 1,657,445\n",
      "Trainable params: 1,656,453\n",
      "Non-trainable params: 992\n",
      "_________________________________________________________________\n"
     ]
    }
   ],
   "source": [
    "rnn_cnn_1=RNNCNN1()\n",
    "rnn_cnn_1.initialize_path(project_folder)\n",
    "rnn_cnn_1.initialize_image_properties(image_height=120,image_width=120)\n",
    "rnn_cnn_1.initialize_hyperparams(frames_to_sample=18,batch_size=20,num_epochs=20)\n",
    "rnn_cnn_model_1=rnn_cnn_1.define_model(lstm_cells=128,dense_neurons=128,dropout=0.25)\n",
    "rnn_cnn_model_1.summary()"
   ]
  },
  {
   "cell_type": "code",
   "execution_count": 10,
   "metadata": {},
   "outputs": [
    {
     "name": "stdout",
     "output_type": "stream",
     "text": [
      "Total Params: 1657445\n",
      "WARNING:tensorflow:`period` argument is deprecated. Please use `save_freq` to specify the frequency in number of batches seen.\n",
      "Epoch 1/20\n"
     ]
    },
    {
     "name": "stderr",
     "output_type": "stream",
     "text": [
      "2023-02-13 05:58:32.411845: I tensorflow/stream_executor/cuda/cuda_dnn.cc:377] Loaded cuDNN version 8302\n"
     ]
    },
    {
     "name": "stdout",
     "output_type": "stream",
     "text": [
      "34/34 [==============================] - ETA: 0s - loss: 1.4463 - categorical_accuracy: 0.3793\n",
      "Epoch 00001: saving model to model_init_2023-02-1305_58_21.626621/model-00001-1.44632-0.37934-1.66104-0.20000.h5\n",
      "34/34 [==============================] - 208s 6s/step - loss: 1.4463 - categorical_accuracy: 0.3793 - val_loss: 1.6610 - val_categorical_accuracy: 0.2000 - lr: 0.0010\n",
      "Epoch 2/20\n",
      "34/34 [==============================] - ETA: 0s - loss: 1.0804 - categorical_accuracy: 0.5830\n",
      "Epoch 00002: saving model to model_init_2023-02-1305_58_21.626621/model-00002-1.08043-0.58296-2.04491-0.24000.h5\n",
      "34/34 [==============================] - 202s 6s/step - loss: 1.0804 - categorical_accuracy: 0.5830 - val_loss: 2.0449 - val_categorical_accuracy: 0.2400 - lr: 0.0010\n",
      "Epoch 3/20\n",
      "34/34 [==============================] - ETA: 0s - loss: 0.9068 - categorical_accuracy: 0.6561\n",
      "Epoch 00003: saving model to model_init_2023-02-1305_58_21.626621/model-00003-0.90679-0.65611-1.95878-0.26000.h5\n",
      "34/34 [==============================] - 191s 6s/step - loss: 0.9068 - categorical_accuracy: 0.6561 - val_loss: 1.9588 - val_categorical_accuracy: 0.2600 - lr: 0.0010\n",
      "Epoch 4/20\n",
      "34/34 [==============================] - ETA: 0s - loss: 0.7390 - categorical_accuracy: 0.7210\n",
      "Epoch 00004: saving model to model_init_2023-02-1305_58_21.626621/model-00004-0.73904-0.72097-2.37483-0.16000.h5\n",
      "34/34 [==============================] - 191s 6s/step - loss: 0.7390 - categorical_accuracy: 0.7210 - val_loss: 2.3748 - val_categorical_accuracy: 0.1600 - lr: 0.0010\n",
      "Epoch 5/20\n",
      "34/34 [==============================] - ETA: 0s - loss: 0.6695 - categorical_accuracy: 0.7557\n",
      "Epoch 00005: saving model to model_init_2023-02-1305_58_21.626621/model-00005-0.66954-0.75566-2.92939-0.21000.h5\n",
      "\n",
      "Epoch 00005: ReduceLROnPlateau reducing learning rate to 0.00020000000949949026.\n",
      "34/34 [==============================] - 180s 5s/step - loss: 0.6695 - categorical_accuracy: 0.7557 - val_loss: 2.9294 - val_categorical_accuracy: 0.2100 - lr: 0.0010\n",
      "Epoch 6/20\n",
      "34/34 [==============================] - ETA: 0s - loss: 0.5130 - categorical_accuracy: 0.8039\n",
      "Epoch 00006: saving model to model_init_2023-02-1305_58_21.626621/model-00006-0.51301-0.80392-2.29156-0.19000.h5\n",
      "34/34 [==============================] - 181s 5s/step - loss: 0.5130 - categorical_accuracy: 0.8039 - val_loss: 2.2916 - val_categorical_accuracy: 0.1900 - lr: 2.0000e-04\n",
      "Epoch 7/20\n",
      "34/34 [==============================] - ETA: 0s - loss: 0.3777 - categorical_accuracy: 0.8680\n",
      "Epoch 00007: saving model to model_init_2023-02-1305_58_21.626621/model-00007-0.37773-0.86802-2.07822-0.24000.h5\n",
      "34/34 [==============================] - 178s 5s/step - loss: 0.3777 - categorical_accuracy: 0.8680 - val_loss: 2.0782 - val_categorical_accuracy: 0.2400 - lr: 2.0000e-04\n",
      "Epoch 8/20\n",
      "34/34 [==============================] - ETA: 0s - loss: 0.3399 - categorical_accuracy: 0.8839\n",
      "Epoch 00008: saving model to model_init_2023-02-1305_58_21.626621/model-00008-0.33992-0.88386-2.08446-0.24000.h5\n",
      "34/34 [==============================] - 180s 5s/step - loss: 0.3399 - categorical_accuracy: 0.8839 - val_loss: 2.0845 - val_categorical_accuracy: 0.2400 - lr: 2.0000e-04\n",
      "Epoch 9/20\n",
      "34/34 [==============================] - ETA: 0s - loss: 0.3217 - categorical_accuracy: 0.8891\n",
      "Epoch 00009: saving model to model_init_2023-02-1305_58_21.626621/model-00009-0.32169-0.88914-2.29531-0.33000.h5\n",
      "\n",
      "Epoch 00009: ReduceLROnPlateau reducing learning rate to 4.0000001899898055e-05.\n",
      "34/34 [==============================] - 185s 6s/step - loss: 0.3217 - categorical_accuracy: 0.8891 - val_loss: 2.2953 - val_categorical_accuracy: 0.3300 - lr: 2.0000e-04\n",
      "Epoch 10/20\n",
      "34/34 [==============================] - ETA: 0s - loss: 0.2534 - categorical_accuracy: 0.9140\n",
      "Epoch 00010: saving model to model_init_2023-02-1305_58_21.626621/model-00010-0.25339-0.91403-2.31444-0.40000.h5\n",
      "34/34 [==============================] - 181s 5s/step - loss: 0.2534 - categorical_accuracy: 0.9140 - val_loss: 2.3144 - val_categorical_accuracy: 0.4000 - lr: 4.0000e-05\n",
      "Epoch 11/20\n",
      "34/34 [==============================] - ETA: 0s - loss: 0.2484 - categorical_accuracy: 0.9223\n",
      "Epoch 00011: saving model to model_init_2023-02-1305_58_21.626621/model-00011-0.24836-0.92232-2.14819-0.42000.h5\n",
      "34/34 [==============================] - 182s 6s/step - loss: 0.2484 - categorical_accuracy: 0.9223 - val_loss: 2.1482 - val_categorical_accuracy: 0.4200 - lr: 4.0000e-05\n",
      "Epoch 12/20\n",
      "34/34 [==============================] - ETA: 0s - loss: 0.2214 - categorical_accuracy: 0.9284\n",
      "Epoch 00012: saving model to model_init_2023-02-1305_58_21.626621/model-00012-0.22139-0.92836-1.98573-0.45000.h5\n",
      "34/34 [==============================] - 180s 5s/step - loss: 0.2214 - categorical_accuracy: 0.9284 - val_loss: 1.9857 - val_categorical_accuracy: 0.4500 - lr: 4.0000e-05\n",
      "Epoch 13/20\n",
      "34/34 [==============================] - ETA: 0s - loss: 0.2176 - categorical_accuracy: 0.9329\n",
      "Epoch 00013: saving model to model_init_2023-02-1305_58_21.626621/model-00013-0.21758-0.93288-1.68615-0.50000.h5\n",
      "\n",
      "Epoch 00013: ReduceLROnPlateau reducing learning rate to 8.000000525498762e-06.\n",
      "34/34 [==============================] - 181s 5s/step - loss: 0.2176 - categorical_accuracy: 0.9329 - val_loss: 1.6861 - val_categorical_accuracy: 0.5000 - lr: 4.0000e-05\n",
      "Epoch 14/20\n",
      "34/34 [==============================] - ETA: 0s - loss: 0.2154 - categorical_accuracy: 0.9367\n",
      "Epoch 00014: saving model to model_init_2023-02-1305_58_21.626621/model-00014-0.21536-0.93665-1.17018-0.61000.h5\n",
      "34/34 [==============================] - 179s 5s/step - loss: 0.2154 - categorical_accuracy: 0.9367 - val_loss: 1.1702 - val_categorical_accuracy: 0.6100 - lr: 8.0000e-06\n",
      "Epoch 15/20\n",
      "34/34 [==============================] - ETA: 0s - loss: 0.2185 - categorical_accuracy: 0.9306\n",
      "Epoch 00015: saving model to model_init_2023-02-1305_58_21.626621/model-00015-0.21845-0.93062-1.06509-0.69000.h5\n",
      "34/34 [==============================] - 182s 6s/step - loss: 0.2185 - categorical_accuracy: 0.9306 - val_loss: 1.0651 - val_categorical_accuracy: 0.6900 - lr: 8.0000e-06\n",
      "Epoch 16/20\n",
      "34/34 [==============================] - ETA: 0s - loss: 0.2226 - categorical_accuracy: 0.9261\n",
      "Epoch 00016: saving model to model_init_2023-02-1305_58_21.626621/model-00016-0.22257-0.92609-0.79101-0.72000.h5\n",
      "34/34 [==============================] - 176s 5s/step - loss: 0.2226 - categorical_accuracy: 0.9261 - val_loss: 0.7910 - val_categorical_accuracy: 0.7200 - lr: 8.0000e-06\n",
      "Epoch 17/20\n",
      "34/34 [==============================] - ETA: 0s - loss: 0.2019 - categorical_accuracy: 0.9442\n",
      "Epoch 00017: saving model to model_init_2023-02-1305_58_21.626621/model-00017-0.20191-0.94419-0.61145-0.76000.h5\n",
      "34/34 [==============================] - 173s 5s/step - loss: 0.2019 - categorical_accuracy: 0.9442 - val_loss: 0.6115 - val_categorical_accuracy: 0.7600 - lr: 8.0000e-06\n",
      "Epoch 18/20\n",
      "34/34 [==============================] - ETA: 0s - loss: 0.2250 - categorical_accuracy: 0.9344\n",
      "Epoch 00018: saving model to model_init_2023-02-1305_58_21.626621/model-00018-0.22504-0.93439-0.63378-0.78000.h5\n",
      "34/34 [==============================] - 170s 5s/step - loss: 0.2250 - categorical_accuracy: 0.9344 - val_loss: 0.6338 - val_categorical_accuracy: 0.7800 - lr: 8.0000e-06\n",
      "Epoch 19/20\n",
      "34/34 [==============================] - ETA: 0s - loss: 0.2174 - categorical_accuracy: 0.9306\n",
      "Epoch 00019: saving model to model_init_2023-02-1305_58_21.626621/model-00019-0.21737-0.93062-0.60246-0.82000.h5\n",
      "34/34 [==============================] - 173s 5s/step - loss: 0.2174 - categorical_accuracy: 0.9306 - val_loss: 0.6025 - val_categorical_accuracy: 0.8200 - lr: 8.0000e-06\n",
      "Epoch 20/20\n",
      "34/34 [==============================] - ETA: 0s - loss: 0.2142 - categorical_accuracy: 0.9397\n",
      "Epoch 00020: saving model to model_init_2023-02-1305_58_21.626621/model-00020-0.21421-0.93967-0.46669-0.85000.h5\n",
      "34/34 [==============================] - 173s 5s/step - loss: 0.2142 - categorical_accuracy: 0.9397 - val_loss: 0.4667 - val_categorical_accuracy: 0.8500 - lr: 8.0000e-06\n"
     ]
    }
   ],
   "source": [
    "print(\"Total Params:\", rnn_cnn_model_1.count_params())\n",
    "history_model_2=rnn_cnn_1.train_model(rnn_cnn_model_1,augment_data=True)"
   ]
  },
  {
   "cell_type": "code",
   "execution_count": 11,
   "metadata": {},
   "outputs": [
    {
     "data": {
      "image/png": "[encoded data removed]",
      "text/plain": [
       "<Figure size 1080x288 with 2 Axes>"
      ]
     },
     "metadata": {
      "needs_background": "light"
     },
     "output_type": "display_data"
    }
   ],
   "source": [
    "plot(history_model_2)"
   ]
  },
  {
   "cell_type": "markdown",
   "metadata": {},
   "source": [
    "### Here we achieved a good training accuracy of 93.9% and the validation accuracy of 85.0%.\n",
    "- But there is a lot of difference between training and validation accuracy so let’s increase the augmentation and further train the models with different metrices"
   ]
  },
  {
   "cell_type": "markdown",
   "metadata": {},
   "source": [
    "# Increaced Augmentation"
   ]
  },
  {
   "cell_type": "code",
   "execution_count": 8,
   "metadata": {},
   "outputs": [],
   "source": [
    "class GenModelAugmentation(metaclass= abc.ABCMeta):\n",
    "    \n",
    "    def initialize_path(self,project_folder):\n",
    "        self.train_doc = np.random.permutation(open(project_folder + '/' + 'train.csv').readlines())\n",
    "        self.val_doc = np.random.permutation(open(project_folder + '/' + 'val.csv').readlines())\n",
    "        self.train_path = project_folder + '/' + 'train'\n",
    "        self.val_path =  project_folder + '/' + 'val'\n",
    "        self.num_train_sequences = len(self.train_doc)\n",
    "        self.num_val_sequences = len(self.val_doc)\n",
    "        \n",
    "    def initialize_image_properties(self,image_height=100,image_width=100):\n",
    "        self.image_height=image_height\n",
    "        self.image_width=image_width\n",
    "        self.channels=3\n",
    "        self.num_classes=5\n",
    "        self.total_frames=30\n",
    "          \n",
    "    def initialize_hyperparams(self,frames_to_sample=30,batch_size=20,num_epochs=20):\n",
    "        self.frames_to_sample=frames_to_sample\n",
    "        self.batch_size=batch_size\n",
    "        self.num_epochs=num_epochs\n",
    "        \n",
    "        \n",
    "    def generator(self,source_path, folder_list, augment=False):\n",
    "        img_idx = np.round(np.linspace(0,self.total_frames-1,self.frames_to_sample)).astype(int)\n",
    "        batch_size=self.batch_size\n",
    "        while True:\n",
    "            t = np.random.permutation(folder_list)\n",
    "            num_batches = len(t)//batch_size\n",
    "        \n",
    "            for batch in range(num_batches): \n",
    "                batch_data, batch_labels= self.one_batch_data(source_path,t,batch,batch_size,img_idx,augment)\n",
    "                yield batch_data, batch_labels \n",
    "\n",
    "            remaining_seq=len(t)%batch_size\n",
    "        \n",
    "            if (remaining_seq != 0):\n",
    "                batch_data, batch_labels= self.one_batch_data(source_path,t,num_batches,batch_size,img_idx,augment,remaining_seq)\n",
    "                yield batch_data, batch_labels \n",
    "    \n",
    "    \n",
    "    def one_batch_data(self,source_path,t,batch,batch_size,img_idx,augment,remaining_seq=0):\n",
    "    \n",
    "        seq_len = remaining_seq if remaining_seq else batch_size\n",
    "    \n",
    "        batch_data = np.zeros((seq_len,len(img_idx),self.image_height,self.image_width,self.channels)) \n",
    "        batch_labels = np.zeros((seq_len,self.num_classes)) \n",
    "    \n",
    "        if (augment): batch_data_aug = np.zeros((seq_len,len(img_idx),self.image_height,self.image_width,self.channels))\n",
    "\n",
    "        \n",
    "        for folder in range(seq_len): \n",
    "            imgs = os.listdir(source_path+'/'+ t[folder + (batch*batch_size)].split(';')[0]) \n",
    "            for idx,item in enumerate(img_idx): \n",
    "                image = imread(source_path+'/'+ t[folder + (batch*batch_size)].strip().split(';')[0]+'/'+imgs[item]).astype(np.float32)\n",
    "                image_resized=resize(image,(self.image_height,self.image_width,3))\n",
    "            \n",
    "\n",
    "                batch_data[folder,idx,:,:,0] = (image_resized[:,:,0])/255\n",
    "                batch_data[folder,idx,:,:,1] = (image_resized[:,:,1])/255\n",
    "                batch_data[folder,idx,:,:,2] = (image_resized[:,:,2])/255\n",
    "            \n",
    "                if (augment):\n",
    "                    shifted = cv2.warpAffine(image, \n",
    "                                             np.float32([[1, 0, np.random.randint(-30,30)],[0, 1, np.random.randint(-30,30)]]), \n",
    "                                            (image.shape[1], image.shape[0]))\n",
    "                    \n",
    "                    gray = cv2.cvtColor(shifted,cv2.COLOR_BGR2GRAY)\n",
    "\n",
    "                    x0, y0 = np.argwhere(gray > 0).min(axis=0)\n",
    "                    x1, y1 = np.argwhere(gray > 0).max(axis=0) \n",
    "                    \n",
    "                    cropped=shifted[x0:x1,y0:y1,:]\n",
    "                    \n",
    "                    image_resized=resize(cropped,(self.image_height,self.image_width,3))\n",
    "                    \n",
    "                    M = cv2.getRotationMatrix2D((self.image_width//2,self.image_height//2),\n",
    "                                                np.random.randint(-10,10), 1.0)\n",
    "                    rotated = cv2.warpAffine(image_resized, M, (self.image_width, self.image_height))\n",
    "                    \n",
    "                    #shifted = cv2.warpAffine(image_resized, \n",
    "                    #                        np.float32([[1, 0, np.random.randint(-3,3)],[0, 1, np.random.randint(-3,3)]]), \n",
    "                    #                        (image_resized.shape[1], image_resized.shape[0]))\n",
    "            \n",
    "                    batch_data_aug[folder,idx,:,:,0] = (rotated[:,:,0])/255\n",
    "                    batch_data_aug[folder,idx,:,:,1] = (rotated[:,:,1])/255\n",
    "                    batch_data_aug[folder,idx,:,:,2] = (rotated[:,:,2])/255\n",
    "                \n",
    "            \n",
    "            batch_labels[folder, int(t[folder + (batch*batch_size)].strip().split(';')[2])] = 1\n",
    "            \n",
    "    \n",
    "        if (augment):\n",
    "            batch_data=np.concatenate([batch_data,batch_data_aug])\n",
    "            batch_labels=np.concatenate([batch_labels,batch_labels])\n",
    "\n",
    "        \n",
    "        return(batch_data,batch_labels)\n",
    "    \n",
    "    \n",
    "    def train_model(self, model, augment_data=False):\n",
    "        train_generator = self.generator(self.train_path, self.train_doc,augment=augment_data)\n",
    "        val_generator = self.generator(self.val_path, self.val_doc)\n",
    "\n",
    "        model_name = 'model_init' + '_' + str(datetime.datetime.now()).replace(' ','').replace(':','_') + '/'\n",
    "    \n",
    "        if not os.path.exists(model_name):\n",
    "            os.mkdir(model_name)\n",
    "        \n",
    "        filepath = model_name + 'model-{epoch:05d}-{loss:.5f}-{categorical_accuracy:.5f}-{val_loss:.5f}-{val_categorical_accuracy:.5f}.h5'\n",
    "\n",
    "        checkpoint = ModelCheckpoint(filepath, monitor='val_loss', verbose=1, save_best_only=False, save_weights_only=False, mode='auto', period=1)\n",
    "        LR = ReduceLROnPlateau(monitor='val_loss', factor=0.2, verbose=1, patience=4)\n",
    "        callbacks_list = [checkpoint, LR]\n",
    "\n",
    "        if (self.num_train_sequences%self.batch_size) == 0:\n",
    "            steps_per_epoch = int(self.num_train_sequences/self.batch_size)\n",
    "        else:\n",
    "            steps_per_epoch = (self.num_train_sequences//self.batch_size) + 1\n",
    "\n",
    "        if (self.num_val_sequences%self.batch_size) == 0:\n",
    "            validation_steps = int(self.num_val_sequences/self.batch_size)\n",
    "        else:\n",
    "            validation_steps = (self.num_val_sequences//self.batch_size) + 1\n",
    "    \n",
    "        history=model.fit_generator(train_generator, steps_per_epoch=steps_per_epoch, epochs=self.num_epochs, verbose=1, \n",
    "                            callbacks=callbacks_list, validation_data=val_generator, \n",
    "                            validation_steps=validation_steps, class_weight=None, workers=1, initial_epoch=0)\n",
    "        return history\n",
    "\n",
    "        \n",
    "    @abc.abstractmethod\n",
    "    def define_model(self):\n",
    "        pass"
   ]
  },
  {
   "cell_type": "markdown",
   "metadata": {},
   "source": [
    "# Model 3\n",
    "#### (3,3,3) Filter with 160x160 Image resolution"
   ]
  },
  {
   "cell_type": "code",
   "execution_count": 13,
   "metadata": {},
   "outputs": [],
   "source": [
    "class Conv3DModel_3(GenModelAugmentation):\n",
    "    \n",
    "    def define_model(self,filtersize=(3,3,3),dense_neurons=64,dropout=0.25):\n",
    "\n",
    "        model = Sequential()\n",
    "        model.add(Conv3D(16, filtersize, padding='same',\n",
    "                 input_shape=(self.frames_to_sample,self.image_height,self.image_width,self.channels)))\n",
    "        model.add(Activation('relu'))\n",
    "        model.add(BatchNormalization())\n",
    "        model.add(MaxPooling3D(pool_size=(2, 2, 2)))\n",
    "\n",
    "        model.add(Conv3D(32, filtersize, padding='same'))\n",
    "        model.add(Activation('relu'))\n",
    "        model.add(BatchNormalization())\n",
    "        model.add(MaxPooling3D(pool_size=(2, 2, 2)))\n",
    "\n",
    "        model.add(Conv3D(64, filtersize, padding='same'))\n",
    "        model.add(Activation('relu'))\n",
    "        model.add(BatchNormalization())\n",
    "        model.add(MaxPooling3D(pool_size=(2, 2, 2)))\n",
    "\n",
    "        model.add(Conv3D(128, filtersize, padding='same'))\n",
    "        model.add(Activation('relu'))\n",
    "        model.add(BatchNormalization())\n",
    "        model.add(MaxPooling3D(pool_size=(2, 2, 2)))\n",
    "\n",
    "        model.add(Flatten())\n",
    "        model.add(Dense(dense_neurons,activation='relu'))\n",
    "        model.add(BatchNormalization())\n",
    "        model.add(Dropout(dropout))\n",
    "\n",
    "        model.add(Dense(dense_neurons,activation='relu'))\n",
    "        model.add(BatchNormalization())\n",
    "        model.add(Dropout(dropout))\n",
    "\n",
    "\n",
    "        model.add(Dense(self.num_classes,activation='softmax'))\n",
    "\n",
    "        optimiser = tf.optimizers.Adam(lr=0.0002)\n",
    "        model.compile(optimizer=optimiser, loss='categorical_crossentropy', metrics=['categorical_accuracy'])\n",
    "        return model"
   ]
  },
  {
   "cell_type": "code",
   "execution_count": 14,
   "metadata": {},
   "outputs": [
    {
     "name": "stdout",
     "output_type": "stream",
     "text": [
      "Model: \"sequential_1\"\n",
      "_________________________________________________________________\n",
      " Layer (type)                Output Shape              Param #   \n",
      "=================================================================\n",
      " conv3d (Conv3D)             (None, 20, 160, 160, 16)  1312      \n",
      "                                                                 \n",
      " activation (Activation)     (None, 20, 160, 160, 16)  0         \n",
      "                                                                 \n",
      " batch_normalization_5 (Batc  (None, 20, 160, 160, 16)  64       \n",
      " hNormalization)                                                 \n",
      "                                                                 \n",
      " max_pooling3d (MaxPooling3D  (None, 10, 80, 80, 16)   0         \n",
      " )                                                               \n",
      "                                                                 \n",
      " conv3d_1 (Conv3D)           (None, 10, 80, 80, 32)    13856     \n",
      "                                                                 \n",
      " activation_1 (Activation)   (None, 10, 80, 80, 32)    0         \n",
      "                                                                 \n",
      " batch_normalization_6 (Batc  (None, 10, 80, 80, 32)   128       \n",
      " hNormalization)                                                 \n",
      "                                                                 \n",
      " max_pooling3d_1 (MaxPooling  (None, 5, 40, 40, 32)    0         \n",
      " 3D)                                                             \n",
      "                                                                 \n",
      " conv3d_2 (Conv3D)           (None, 5, 40, 40, 64)     55360     \n",
      "                                                                 \n",
      " activation_2 (Activation)   (None, 5, 40, 40, 64)     0         \n",
      "                                                                 \n",
      " batch_normalization_7 (Batc  (None, 5, 40, 40, 64)    256       \n",
      " hNormalization)                                                 \n",
      "                                                                 \n",
      " max_pooling3d_2 (MaxPooling  (None, 2, 20, 20, 64)    0         \n",
      " 3D)                                                             \n",
      "                                                                 \n",
      " conv3d_3 (Conv3D)           (None, 2, 20, 20, 128)    221312    \n",
      "                                                                 \n",
      " activation_3 (Activation)   (None, 2, 20, 20, 128)    0         \n",
      "                                                                 \n",
      " batch_normalization_8 (Batc  (None, 2, 20, 20, 128)   512       \n",
      " hNormalization)                                                 \n",
      "                                                                 \n",
      " max_pooling3d_3 (MaxPooling  (None, 1, 10, 10, 128)   0         \n",
      " 3D)                                                             \n",
      "                                                                 \n",
      " flatten_1 (Flatten)         (None, 12800)             0         \n",
      "                                                                 \n",
      " dense_2 (Dense)             (None, 256)               3277056   \n",
      "                                                                 \n",
      " batch_normalization_9 (Batc  (None, 256)              1024      \n",
      " hNormalization)                                                 \n",
      "                                                                 \n",
      " dropout_2 (Dropout)         (None, 256)               0         \n",
      "                                                                 \n",
      " dense_3 (Dense)             (None, 256)               65792     \n",
      "                                                                 \n",
      " batch_normalization_10 (Bat  (None, 256)              1024      \n",
      " chNormalization)                                                \n",
      "                                                                 \n",
      " dropout_3 (Dropout)         (None, 256)               0         \n",
      "                                                                 \n",
      " dense_4 (Dense)             (None, 5)                 1285      \n",
      "                                                                 \n",
      "=================================================================\n",
      "Total params: 3,638,981\n",
      "Trainable params: 3,637,477\n",
      "Non-trainable params: 1,504\n",
      "_________________________________________________________________\n"
     ]
    }
   ],
   "source": [
    "conv_3d_3=Conv3DModel_3()\n",
    "conv_3d_3.initialize_path(project_folder)\n",
    "conv_3d_3.initialize_image_properties(image_height=160,image_width=160)\n",
    "conv_3d_3.initialize_hyperparams(frames_to_sample=20,batch_size=20,num_epochs=30)\n",
    "conv_3d_model3=conv_3d_3.define_model(dense_neurons=256,dropout=0.5)\n",
    "conv_3d_model3.summary()"
   ]
  },
  {
   "cell_type": "code",
   "execution_count": 15,
   "metadata": {},
   "outputs": [
    {
     "name": "stdout",
     "output_type": "stream",
     "text": [
      "Total Params: 3638981\n",
      "WARNING:tensorflow:`period` argument is deprecated. Please use `save_freq` to specify the frequency in number of batches seen.\n",
      "Epoch 1/30\n",
      "34/34 [==============================] - ETA: 0s - loss: 1.9609 - categorical_accuracy: 0.3552\n",
      "Epoch 00001: saving model to model_init_2023-02-1307_04_35.735127/model-00001-1.96091-0.35520-2.73022-0.16000.h5\n",
      "34/34 [==============================] - 229s 7s/step - loss: 1.9609 - categorical_accuracy: 0.3552 - val_loss: 2.7302 - val_categorical_accuracy: 0.1600 - lr: 2.0000e-04\n",
      "Epoch 2/30\n",
      "34/34 [==============================] - ETA: 0s - loss: 1.4586 - categorical_accuracy: 0.5000\n",
      "Epoch 00002: saving model to model_init_2023-02-1307_04_35.735127/model-00002-1.45865-0.50000-4.03090-0.15000.h5\n",
      "34/34 [==============================] - 231s 7s/step - loss: 1.4586 - categorical_accuracy: 0.5000 - val_loss: 4.0309 - val_categorical_accuracy: 0.1500 - lr: 2.0000e-04\n",
      "Epoch 3/30\n",
      "34/34 [==============================] - ETA: 0s - loss: 1.1886 - categorical_accuracy: 0.5777\n",
      "Epoch 00003: saving model to model_init_2023-02-1307_04_35.735127/model-00003-1.18857-0.57768-5.51906-0.16000.h5\n",
      "34/34 [==============================] - 234s 7s/step - loss: 1.1886 - categorical_accuracy: 0.5777 - val_loss: 5.5191 - val_categorical_accuracy: 0.1600 - lr: 2.0000e-04\n",
      "Epoch 4/30\n",
      "34/34 [==============================] - ETA: 0s - loss: 0.9595 - categorical_accuracy: 0.6508\n",
      "Epoch 00004: saving model to model_init_2023-02-1307_04_35.735127/model-00004-0.95945-0.65083-5.78222-0.22000.h5\n",
      "34/34 [==============================] - 235s 7s/step - loss: 0.9595 - categorical_accuracy: 0.6508 - val_loss: 5.7822 - val_categorical_accuracy: 0.2200 - lr: 2.0000e-04\n",
      "Epoch 5/30\n",
      "34/34 [==============================] - ETA: 0s - loss: 0.8746 - categorical_accuracy: 0.6863\n",
      "Epoch 00005: saving model to model_init_2023-02-1307_04_35.735127/model-00005-0.87464-0.68627-6.66571-0.19000.h5\n",
      "\n",
      "Epoch 00005: ReduceLROnPlateau reducing learning rate to 3.9999998989515007e-05.\n",
      "34/34 [==============================] - 231s 7s/step - loss: 0.8746 - categorical_accuracy: 0.6863 - val_loss: 6.6657 - val_categorical_accuracy: 0.1900 - lr: 2.0000e-04\n",
      "Epoch 6/30\n",
      "34/34 [==============================] - ETA: 0s - loss: 0.6720 - categorical_accuracy: 0.7474\n",
      "Epoch 00006: saving model to model_init_2023-02-1307_04_35.735127/model-00006-0.67205-0.74736-6.62760-0.21000.h5\n",
      "34/34 [==============================] - 226s 7s/step - loss: 0.6720 - categorical_accuracy: 0.7474 - val_loss: 6.6276 - val_categorical_accuracy: 0.2100 - lr: 4.0000e-05\n",
      "Epoch 7/30\n",
      "34/34 [==============================] - ETA: 0s - loss: 0.6436 - categorical_accuracy: 0.7579\n",
      "Epoch 00007: saving model to model_init_2023-02-1307_04_35.735127/model-00007-0.64357-0.75792-6.60472-0.23000.h5\n",
      "34/34 [==============================] - 229s 7s/step - loss: 0.6436 - categorical_accuracy: 0.7579 - val_loss: 6.6047 - val_categorical_accuracy: 0.2300 - lr: 4.0000e-05\n",
      "Epoch 8/30\n",
      "34/34 [==============================] - ETA: 0s - loss: 0.5959 - categorical_accuracy: 0.7753\n",
      "Epoch 00008: saving model to model_init_2023-02-1307_04_35.735127/model-00008-0.59588-0.77526-6.74123-0.21000.h5\n",
      "34/34 [==============================] - 228s 7s/step - loss: 0.5959 - categorical_accuracy: 0.7753 - val_loss: 6.7412 - val_categorical_accuracy: 0.2100 - lr: 4.0000e-05\n",
      "Epoch 9/30\n",
      "34/34 [==============================] - ETA: 0s - loss: 0.5656 - categorical_accuracy: 0.7866\n",
      "Epoch 00009: saving model to model_init_2023-02-1307_04_35.735127/model-00009-0.56563-0.78658-6.51444-0.21000.h5\n",
      "\n",
      "Epoch 00009: ReduceLROnPlateau reducing learning rate to 7.999999797903002e-06.\n",
      "34/34 [==============================] - 226s 7s/step - loss: 0.5656 - categorical_accuracy: 0.7866 - val_loss: 6.5144 - val_categorical_accuracy: 0.2100 - lr: 4.0000e-05\n",
      "Epoch 10/30\n",
      "34/34 [==============================] - ETA: 0s - loss: 0.4746 - categorical_accuracy: 0.8220\n",
      "Epoch 00013: saving model to model_init_2023-02-1307_04_35.735127/model-00013-0.47463-0.82202-2.92630-0.31000.h5\n",
      "\n",
      "Epoch 00013: ReduceLROnPlateau reducing learning rate to 1.5999999959603884e-06.\n",
      "34/34 [==============================] - 238s 7s/step - loss: 0.4746 - categorical_accuracy: 0.8220 - val_loss: 2.9263 - val_categorical_accuracy: 0.3100 - lr: 8.0000e-06\n",
      "Epoch 14/30\n",
      "34/34 [==============================] - ETA: 0s - loss: 0.5534 - categorical_accuracy: 0.7949\n",
      "Epoch 00014: saving model to model_init_2023-02-1307_04_35.735127/model-00014-0.55342-0.79487-2.47244-0.40000.h5\n",
      "34/34 [==============================] - 243s 7s/step - loss: 0.5534 - categorical_accuracy: 0.7949 - val_loss: 2.4724 - val_categorical_accuracy: 0.4000 - lr: 1.6000e-06\n",
      "Epoch 15/30\n",
      "34/34 [==============================] - ETA: 0s - loss: 0.4881 - categorical_accuracy: 0.8145\n",
      "Epoch 00015: saving model to model_init_2023-02-1307_04_35.735127/model-00015-0.48810-0.81448-1.59935-0.42000.h5\n",
      "34/34 [==============================] - 231s 7s/step - loss: 0.4881 - categorical_accuracy: 0.8145 - val_loss: 1.5994 - val_categorical_accuracy: 0.4200 - lr: 1.6000e-06\n",
      "Epoch 16/30\n",
      "34/34 [==============================] - ETA: 0s - loss: 0.5011 - categorical_accuracy: 0.8062\n",
      "Epoch 00016: saving model to model_init_2023-02-1307_04_35.735127/model-00016-0.50114-0.80618-1.18904-0.59000.h5\n",
      "34/34 [==============================] - 230s 7s/step - loss: 0.5011 - categorical_accuracy: 0.8062 - val_loss: 1.1890 - val_categorical_accuracy: 0.5900 - lr: 1.6000e-06\n",
      "Epoch 17/30\n",
      "34/34 [==============================] - ETA: 0s - loss: 0.5188 - categorical_accuracy: 0.8130\n",
      "Epoch 00017: saving model to model_init_2023-02-1307_04_35.735127/model-00017-0.51876-0.81297-0.92647-0.70000.h5\n",
      "34/34 [==============================] - 230s 7s/step - loss: 0.5188 - categorical_accuracy: 0.8130 - val_loss: 0.9265 - val_categorical_accuracy: 0.7000 - lr: 1.6000e-06\n",
      "Epoch 18/30\n",
      "34/34 [==============================] - ETA: 0s - loss: 0.4919 - categorical_accuracy: 0.8069\n",
      "Epoch 00018: saving model to model_init_2023-02-1307_04_35.735127/model-00018-0.49193-0.80694-0.87167-0.68000.h5\n",
      "34/34 [==============================] - 229s 7s/step - loss: 0.4919 - categorical_accuracy: 0.8069 - val_loss: 0.8717 - val_categorical_accuracy: 0.6800 - lr: 1.6000e-06\n",
      "Epoch 19/30\n",
      "34/34 [==============================] - ETA: 0s - loss: 0.4886 - categorical_accuracy: 0.8228\n",
      "Epoch 00021: saving model to model_init_2023-02-1307_04_35.735127/model-00021-0.48856-0.82278-0.57038-0.83000.h5\n",
      "34/34 [==============================] - 227s 7s/step - loss: 0.4886 - categorical_accuracy: 0.8228 - val_loss: 0.5704 - val_categorical_accuracy: 0.8300 - lr: 1.6000e-06\n",
      "Epoch 22/30\n",
      "34/34 [==============================] - ETA: 0s - loss: 0.4696 - categorical_accuracy: 0.8152\n",
      "Epoch 00022: saving model to model_init_2023-02-1307_04_35.735127/model-00022-0.46959-0.81523-0.43718-0.85000.h5\n",
      "34/34 [==============================] - 235s 7s/step - loss: 0.4696 - categorical_accuracy: 0.8152 - val_loss: 0.4372 - val_categorical_accuracy: 0.8500 - lr: 1.6000e-06\n",
      "Epoch 23/30\n",
      "34/34 [==============================] - ETA: 0s - loss: 0.4680 - categorical_accuracy: 0.8303\n",
      "Epoch 00023: saving model to model_init_2023-02-1307_04_35.735127/model-00023-0.46802-0.83032-0.54681-0.80000.h5\n",
      "34/34 [==============================] - 233s 7s/step - loss: 0.4680 - categorical_accuracy: 0.8303 - val_loss: 0.5468 - val_categorical_accuracy: 0.8000 - lr: 1.6000e-06\n",
      "Epoch 24/30\n",
      "34/34 [==============================] - ETA: 0s - loss: 0.5043 - categorical_accuracy: 0.8115\n",
      "Epoch 00024: saving model to model_init_2023-02-1307_04_35.735127/model-00024-0.50427-0.81146-0.47765-0.86000.h5\n",
      "34/34 [==============================] - 228s 7s/step - loss: 0.5043 - categorical_accuracy: 0.8115 - val_loss: 0.4777 - val_categorical_accuracy: 0.8600 - lr: 1.6000e-06\n",
      "Epoch 25/30\n",
      "34/34 [==============================] - ETA: 0s - loss: 0.4468 - categorical_accuracy: 0.8258\n",
      "Epoch 00025: saving model to model_init_2023-02-1307_04_35.735127/model-00025-0.44684-0.82579-0.50784-0.84000.h5\n",
      "34/34 [==============================] - 225s 7s/step - loss: 0.4468 - categorical_accuracy: 0.8258 - val_loss: 0.5078 - val_categorical_accuracy: 0.8400 - lr: 1.6000e-06\n",
      "Epoch 26/30\n",
      "34/34 [==============================] - ETA: 0s - loss: 0.4754 - categorical_accuracy: 0.8235\n",
      "Epoch 00026: saving model to model_init_2023-02-1307_04_35.735127/model-00026-0.47542-0.82353-0.52743-0.83000.h5\n",
      "\n",
      "Epoch 00026: ReduceLROnPlateau reducing learning rate to 3.200000037395512e-07.\n",
      "34/34 [==============================] - 233s 7s/step - loss: 0.4754 - categorical_accuracy: 0.8235 - val_loss: 0.5274 - val_categorical_accuracy: 0.8300 - lr: 1.6000e-06\n",
      "Epoch 27/30\n",
      "34/34 [==============================] - ETA: 0s - loss: 0.4765 - categorical_accuracy: 0.8273\n",
      "Epoch 00027: saving model to model_init_2023-02-1307_04_35.735127/model-00027-0.47648-0.82730-0.43913-0.86000.h5\n",
      "34/34 [==============================] - 232s 7s/step - loss: 0.4765 - categorical_accuracy: 0.8273 - val_loss: 0.4391 - val_categorical_accuracy: 0.8600 - lr: 3.2000e-07\n",
      "Epoch 28/30\n",
      "34/34 [==============================] - ETA: 0s - loss: 0.4501 - categorical_accuracy: 0.8401\n",
      "Epoch 00028: saving model to model_init_2023-02-1307_04_35.735127/model-00028-0.45009-0.84012-0.47829-0.86000.h5\n",
      "34/34 [==============================] - 296s 9s/step - loss: 0.4501 - categorical_accuracy: 0.8401 - val_loss: 0.4783 - val_categorical_accuracy: 0.8600 - lr: 3.2000e-07\n",
      "Epoch 29/30\n",
      "34/34 [==============================] - ETA: 0s - loss: 0.4492 - categorical_accuracy: 0.8363\n",
      "Epoch 00029: saving model to model_init_2023-02-1307_04_35.735127/model-00029-0.44920-0.83635-0.58880-0.82000.h5\n",
      "34/34 [==============================] - 254s 8s/step - loss: 0.4492 - categorical_accuracy: 0.8363 - val_loss: 0.5888 - val_categorical_accuracy: 0.8200 - lr: 3.2000e-07\n",
      "Epoch 30/30\n",
      "34/34 [==============================] - ETA: 0s - loss: 0.4717 - categorical_accuracy: 0.8273\n",
      "Epoch 00030: saving model to model_init_2023-02-1307_04_35.735127/model-00030-0.47171-0.82730-0.49565-0.84000.h5\n",
      "\n",
      "Epoch 00030: ReduceLROnPlateau reducing learning rate to 6.399999961104187e-08.\n",
      "34/34 [==============================] - 225s 7s/step - loss: 0.4717 - categorical_accuracy: 0.8273 - val_loss: 0.4957 - val_categorical_accuracy: 0.8400 - lr: 3.2000e-07\n"
     ]
    }
   ],
   "source": [
    "print(\"Total Params:\", conv_3d_model3.count_params())\n",
    "history_model3=conv_3d_3.train_model(conv_3d_model3,augment_data=True)"
   ]
  },
  {
   "cell_type": "code",
   "execution_count": 16,
   "metadata": {},
   "outputs": [
    {
     "data": {
      "image/png": "[encoded data removed]",
      "text/plain": [
       "<Figure size 1080x288 with 2 Axes>"
      ]
     },
     "metadata": {
      "needs_background": "light"
     },
     "output_type": "display_data"
    }
   ],
   "source": [
    "plot(history_model3)"
   ]
  },
  {
   "cell_type": "markdown",
   "metadata": {},
   "source": [
    "### Here the model has training accuracy of 82.7% and the validation accuracy of 84.0%."
   ]
  },
  {
   "cell_type": "markdown",
   "metadata": {},
   "source": [
    "### Here at one instance of epoch both training and validation accuracies got equal and suddenly validation accuracy got increased than train accuracy which is not desirable.\n",
    "### So, lets try to decrease the image size and increase the batch size and observe the loss and accuracies further."
   ]
  },
  {
   "cell_type": "markdown",
   "metadata": {},
   "source": [
    "# Model 4\n",
    "### (3,3,3) Filter  with 120x120 Image resolution"
   ]
  },
  {
   "cell_type": "code",
   "execution_count": 22,
   "metadata": {},
   "outputs": [],
   "source": [
    "class Conv3DModel_4(GenModelAugmentation):\n",
    "    \n",
    "    def define_model(self,filtersize=(3,3,3),dense_neurons=64,dropout=0.25):\n",
    "\n",
    "        model = Sequential()\n",
    "        model.add(Conv3D(16, filtersize, padding='same',\n",
    "                 input_shape=(self.frames_to_sample,self.image_height,self.image_width,self.channels)))\n",
    "        model.add(Activation('relu'))\n",
    "        model.add(BatchNormalization())\n",
    "        model.add(MaxPooling3D(pool_size=(2, 2, 2)))\n",
    "\n",
    "        model.add(Conv3D(32, filtersize, padding='same'))\n",
    "        model.add(Activation('relu'))\n",
    "        model.add(BatchNormalization())\n",
    "        model.add(MaxPooling3D(pool_size=(2, 2, 2)))\n",
    "\n",
    "        model.add(Conv3D(64, filtersize, padding='same'))\n",
    "        model.add(Activation('relu'))\n",
    "        model.add(BatchNormalization())\n",
    "        model.add(MaxPooling3D(pool_size=(2, 2, 2)))\n",
    "\n",
    "        model.add(Conv3D(128, filtersize, padding='same'))\n",
    "        model.add(Activation('relu'))\n",
    "        model.add(BatchNormalization())\n",
    "        model.add(MaxPooling3D(pool_size=(2, 2, 2)))\n",
    "\n",
    "        model.add(Flatten())\n",
    "        model.add(Dense(dense_neurons,activation='relu'))\n",
    "        model.add(BatchNormalization())\n",
    "        model.add(Dropout(dropout))\n",
    "\n",
    "        model.add(Dense(dense_neurons,activation='relu'))\n",
    "        model.add(BatchNormalization())\n",
    "        model.add(Dropout(dropout))\n",
    "\n",
    "\n",
    "        model.add(Dense(self.num_classes,activation='softmax'))\n",
    "\n",
    "        optimiser = tf.optimizers.Adam(lr=0.0002)\n",
    "        model.compile(optimizer=optimiser, loss='categorical_crossentropy', metrics=['categorical_accuracy'])\n",
    "        return model"
   ]
  },
  {
   "cell_type": "code",
   "execution_count": 23,
   "metadata": {},
   "outputs": [
    {
     "name": "stdout",
     "output_type": "stream",
     "text": [
      "Model: \"sequential\"\n",
      "_________________________________________________________________\n",
      " Layer (type)                Output Shape              Param #   \n",
      "=================================================================\n",
      " conv3d (Conv3D)             (None, 16, 120, 120, 16)  400       \n",
      "                                                                 \n",
      " activation (Activation)     (None, 16, 120, 120, 16)  0         \n",
      "                                                                 \n",
      " batch_normalization (BatchN  (None, 16, 120, 120, 16)  64       \n",
      " ormalization)                                                   \n",
      "                                                                 \n",
      " max_pooling3d (MaxPooling3D  (None, 8, 60, 60, 16)    0         \n",
      " )                                                               \n",
      "                                                                 \n",
      " conv3d_1 (Conv3D)           (None, 8, 60, 60, 32)     4128      \n",
      "                                                                 \n",
      " activation_1 (Activation)   (None, 8, 60, 60, 32)     0         \n",
      "                                                                 \n",
      " batch_normalization_1 (Batc  (None, 8, 60, 60, 32)    128       \n",
      " hNormalization)                                                 \n",
      "                                                                 \n",
      " max_pooling3d_1 (MaxPooling  (None, 4, 30, 30, 32)    0         \n",
      " 3D)                                                             \n",
      "                                                                 \n",
      " conv3d_2 (Conv3D)           (None, 4, 30, 30, 64)     16448     \n",
      "                                                                 \n",
      " activation_2 (Activation)   (None, 4, 30, 30, 64)     0         \n",
      "                                                                 \n",
      " batch_normalization_2 (Batc  (None, 4, 30, 30, 64)    256       \n",
      " hNormalization)                                                 \n",
      "                                                                 \n",
      " max_pooling3d_2 (MaxPooling  (None, 2, 15, 15, 64)    0         \n",
      " 3D)                                                             \n",
      "                                                                 \n",
      " conv3d_3 (Conv3D)           (None, 2, 15, 15, 128)    65664     \n",
      "                                                                 \n",
      " activation_3 (Activation)   (None, 2, 15, 15, 128)    0         \n",
      "                                                                 \n",
      " batch_normalization_3 (Batc  (None, 2, 15, 15, 128)   512       \n",
      " hNormalization)                                                 \n",
      "                                                                 \n",
      " max_pooling3d_3 (MaxPooling  (None, 1, 7, 7, 128)     0         \n",
      " 3D)                                                             \n",
      "                                                                 \n",
      " flatten (Flatten)           (None, 6272)              0         \n",
      "                                                                 \n",
      " dense (Dense)               (None, 256)               1605888   \n",
      "                                                                 \n",
      " batch_normalization_4 (Batc  (None, 256)              1024      \n",
      " hNormalization)                                                 \n",
      "                                                                 \n",
      " dropout (Dropout)           (None, 256)               0         \n",
      "                                                                 \n",
      " dense_1 (Dense)             (None, 256)               65792     \n",
      "                                                                 \n",
      " batch_normalization_5 (Batc  (None, 256)              1024      \n",
      " hNormalization)                                                 \n",
      "                                                                 \n",
      " dropout_1 (Dropout)         (None, 256)               0         \n",
      "                                                                 \n",
      " dense_2 (Dense)             (None, 5)                 1285      \n",
      "                                                                 \n",
      "=================================================================\n",
      "Total params: 1,762,613\n",
      "Trainable params: 1,761,109\n",
      "Non-trainable params: 1,504\n",
      "_________________________________________________________________\n"
     ]
    },
    {
     "name": "stderr",
     "output_type": "stream",
     "text": [
      "2023-02-12 14:27:54.812309: W tensorflow/core/common_runtime/gpu/gpu_bfc_allocator.cc:39] Overriding allow_growth setting because the TF_FORCE_GPU_ALLOW_GROWTH environment variable is set. Original config value was 0.\n",
      "2023-02-12 14:27:54.812397: I tensorflow/core/common_runtime/gpu/gpu_device.cc:1525] Created device /job:localhost/replica:0/task:0/device:GPU:0 with 14802 MB memory:  -> device: 0, name: Quadro RTX 5000, pci bus id: 0000:1e:00.0, compute capability: 7.5\n"
     ]
    }
   ],
   "source": [
    "conv_3d_4=Conv3DModel_4()\n",
    "conv_3d_4.initialize_path(project_folder)\n",
    "conv_3d_4.initialize_image_properties(image_height=120,image_width=120)\n",
    "conv_3d_4.initialize_hyperparams(frames_to_sample=16,batch_size=30,num_epochs=30)\n",
    "conv_3d_model_4=conv_3d_4.define_model(filtersize=(2,2,2),dense_neurons=256,dropout=0.5)\n",
    "conv_3d_model_4.summary()"
   ]
  },
  {
   "cell_type": "code",
   "execution_count": 26,
   "metadata": {},
   "outputs": [
    {
     "name": "stdout",
     "output_type": "stream",
     "text": [
      "Total Params: 1762613\n",
      "WARNING:tensorflow:`period` argument is deprecated. Please use `save_freq` to specify the frequency in number of batches seen.\n",
      "Epoch 1/30\n"
     ]
    },
    {
     "name": "stderr",
     "output_type": "stream",
     "text": [
      "2023-02-12 14:28:42.845260: I tensorflow/stream_executor/cuda/cuda_dnn.cc:377] Loaded cuDNN version 8302\n"
     ]
    },
    {
     "name": "stdout",
     "output_type": "stream",
     "text": [
      "23/23 [==============================] - ETA: 0s - loss: 2.0727 - categorical_accuracy: 0.3386\n",
      "Epoch 00001: saving model to model_init_2023-02-1214_28_34.700759/model-00001-2.07273-0.33861-1.91073-0.16000.h5\n",
      "23/23 [==============================] - 164s 7s/step - loss: 2.0727 - categorical_accuracy: 0.3386 - val_loss: 1.9107 - val_categorical_accuracy: 0.1600 - lr: 2.0000e-04\n",
      "Epoch 2/30\n",
      "23/23 [==============================] - ETA: 0s - loss: 1.5837 - categorical_accuracy: 0.4744\n",
      "Epoch 00002: saving model to model_init_2023-02-1214_28_34.700759/model-00002-1.58366-0.47436-3.04539-0.17000.h5\n",
      "23/23 [==============================] - 157s 7s/step - loss: 1.5837 - categorical_accuracy: 0.4744 - val_loss: 3.0454 - val_categorical_accuracy: 0.1700 - lr: 2.0000e-04\n",
      "Epoch 3/30\n",
      "23/23 [==============================] - ETA: 0s - loss: 1.2662 - categorical_accuracy: 0.5596\n",
      "Epoch 00003: saving model to model_init_2023-02-1214_28_34.700759/model-00003-1.26620-0.55958-4.38974-0.15000.h5\n",
      "23/23 [==============================] - 157s 7s/step - loss: 1.2662 - categorical_accuracy: 0.5596 - val_loss: 4.3897 - val_categorical_accuracy: 0.1500 - lr: 2.0000e-04\n",
      "Epoch 4/30\n",
      "23/23 [==============================] - ETA: 0s - loss: 1.1730 - categorical_accuracy: 0.5716\n",
      "Epoch 00004: saving model to model_init_2023-02-1214_28_34.700759/model-00004-1.17296-0.57164-5.31048-0.14000.h5\n",
      "23/23 [==============================] - 161s 7s/step - loss: 1.1730 - categorical_accuracy: 0.5716 - val_loss: 5.3105 - val_categorical_accuracy: 0.1400 - lr: 2.0000e-04\n",
      "Epoch 5/30\n",
      "23/23 [==============================] - ETA: 0s - loss: 0.9643 - categorical_accuracy: 0.6531\n",
      "Epoch 00006: saving model to model_init_2023-02-1214_28_34.700759/model-00006-0.96429-0.65309-7.86898-0.12000.h5\n",
      "23/23 [==============================] - 173s 8s/step - loss: 0.9643 - categorical_accuracy: 0.6531 - val_loss: 7.8690 - val_categorical_accuracy: 0.1200 - lr: 4.0000e-05\n",
      "Epoch 7/30\n",
      "23/23 [==============================] - ETA: 0s - loss: 0.9367 - categorical_accuracy: 0.6591\n",
      "Epoch 00007: saving model to model_init_2023-02-1214_28_34.700759/model-00007-0.93674-0.65913-7.82965-0.15000.h5\n",
      "23/23 [==============================] - 159s 7s/step - loss: 0.9367 - categorical_accuracy: 0.6591 - val_loss: 7.8296 - val_categorical_accuracy: 0.1500 - lr: 4.0000e-05\n",
      "Epoch 8/30\n",
      "23/23 [==============================] - ETA: 0s - loss: 0.9300 - categorical_accuracy: 0.6712\n",
      "Epoch 00008: saving model to model_init_2023-02-1214_28_34.700759/model-00008-0.93000-0.67119-8.09960-0.17000.h5\n",
      "23/23 [==============================] - 155s 7s/step - loss: 0.9300 - categorical_accuracy: 0.6712 - val_loss: 8.0996 - val_categorical_accuracy: 0.1700 - lr: 4.0000e-05\n",
      "Epoch 9/30\n",
      "23/23 [==============================] - ETA: 0s - loss: 0.8564 - categorical_accuracy: 0.6938\n",
      "Epoch 00009: saving model to model_init_2023-02-1214_28_34.700759/model-00009-0.85642-0.69382-8.64047-0.16000.h5\n",
      "\n",
      "Epoch 00009: ReduceLROnPlateau reducing learning rate to 7.999999797903002e-06.\n",
      "23/23 [==============================] - 161s 7s/step - loss: 0.8564 - categorical_accuracy: 0.6938 - val_loss: 8.6405 - val_categorical_accuracy: 0.1600 - lr: 4.0000e-05\n",
      "Epoch 10/30\n",
      "23/23 [==============================] - ETA: 0s - loss: 0.9275 - categorical_accuracy: 0.6787\n",
      "Epoch 00010: saving model to model_init_2023-02-1214_28_34.700759/model-00010-0.92749-0.67873-8.25461-0.19000.h5\n",
      "23/23 [==============================] - 155s 7s/step - loss: 0.9275 - categorical_accuracy: 0.6787 - val_loss: 8.2546 - val_categorical_accuracy: 0.1900 - lr: 8.0000e-06\n",
      "Epoch 11/30\n",
      "23/23 [==============================] - ETA: 0s - loss: 0.9176 - categorical_accuracy: 0.6682\n",
      "Epoch 00011: saving model to model_init_2023-02-1214_28_34.700759/model-00011-0.91760-0.66817-8.12434-0.20000.h5\n",
      "23/23 [==============================] - 153s 7s/step - loss: 0.9176 - categorical_accuracy: 0.6682 - val_loss: 8.1243 - val_categorical_accuracy: 0.2000 - lr: 8.0000e-06\n",
      "Epoch 12/30\n",
      "23/23 [==============================] - ETA: 0s - loss: 0.8420 - categorical_accuracy: 0.7006\n",
      "Epoch 00012: saving model to model_init_2023-02-1214_28_34.700759/model-00012-0.84198-0.70060-8.19530-0.15000.h5\n",
      "23/23 [==============================] - 160s 7s/step - loss: 0.8420 - categorical_accuracy: 0.7006 - val_loss: 8.1953 - val_categorical_accuracy: 0.1500 - lr: 8.0000e-06\n",
      "Epoch 13/30\n",
      "23/23 [==============================] - ETA: 0s - loss: 0.8475 - categorical_accuracy: 0.6878\n",
      "Epoch 00013: saving model to model_init_2023-02-1214_28_34.700759/model-00013-0.84753-0.68778-7.24567-0.18000.h5\n",
      "\n",
      "Epoch 00013: ReduceLROnPlateau reducing learning rate to 1.5999999959603884e-06.\n",
      "23/23 [==============================] - 158s 7s/step - loss: 0.8475 - categorical_accuracy: 0.6878 - val_loss: 7.2457 - val_categorical_accuracy: 0.1800 - lr: 8.0000e-06\n",
      "Epoch 14/30\n",
      "23/23 [==============================] - ETA: 0s - loss: 0.8566 - categorical_accuracy: 0.7044\n",
      "Epoch 00014: saving model to model_init_2023-02-1214_28_34.700759/model-00014-0.85662-0.70437-6.75606-0.19000.h5\n",
      "23/23 [==============================] - 167s 8s/step - loss: 0.8566 - categorical_accuracy: 0.7044 - val_loss: 6.7561 - val_categorical_accuracy: 0.1900 - lr: 1.6000e-06\n",
      "Epoch 15/30\n",
      "23/23 [==============================] - ETA: 0s - loss: 0.8407 - categorical_accuracy: 0.6953\n",
      "Epoch 00015: saving model to model_init_2023-02-1214_28_34.700759/model-00015-0.84075-0.69532-5.66478-0.18000.h5\n",
      "23/23 [==============================] - 158s 7s/step - loss: 0.8407 - categorical_accuracy: 0.6953 - val_loss: 5.6648 - val_categorical_accuracy: 0.1800 - lr: 1.6000e-06\n",
      "Epoch 16/30\n",
      "23/23 [==============================] - ETA: 0s - loss: 0.8337 - categorical_accuracy: 0.7104\n",
      "Epoch 00016: saving model to model_init_2023-02-1214_28_34.700759/model-00016-0.83367-0.71041-5.89713-0.21000.h5\n",
      "23/23 [==============================] - 156s 7s/step - loss: 0.8337 - categorical_accuracy: 0.7104 - val_loss: 5.8971 - val_categorical_accuracy: 0.2100 - lr: 1.6000e-06\n",
      "Epoch 17/30\n",
      "23/23 [==============================] - ETA: 0s - loss: 0.8414 - categorical_accuracy: 0.6961\n",
      "Epoch 00017: saving model to model_init_2023-02-1214_28_34.700759/model-00017-0.84137-0.69608-4.95233-0.26000.h5\n",
      "\n",
      "Epoch 00017: ReduceLROnPlateau reducing learning rate to 3.200000037395512e-07.\n",
      "23/23 [==============================] - 163s 7s/step - loss: 0.8414 - categorical_accuracy: 0.6961 - val_loss: 4.9523 - val_categorical_accuracy: 0.2600 - lr: 1.6000e-06\n",
      "Epoch 18/30\n",
      "23/23 [==============================] - ETA: 0s - loss: 0.8139 - categorical_accuracy: 0.6946\n",
      "Epoch 00022: saving model to model_init_2023-02-1214_28_34.700759/model-00022-0.81388-0.69457-2.65363-0.38000.h5\n",
      "23/23 [==============================] - 153s 7s/step - loss: 0.8139 - categorical_accuracy: 0.6946 - val_loss: 2.6536 - val_categorical_accuracy: 0.3800 - lr: 6.4000e-08\n",
      "Epoch 23/30\n",
      "23/23 [==============================] - ETA: 0s - loss: 0.9265 - categorical_accuracy: 0.6765\n",
      "Epoch 00023: saving model to model_init_2023-02-1214_28_34.700759/model-00023-0.92650-0.67647-2.45751-0.35000.h5\n",
      "23/23 [==============================] - 150s 7s/step - loss: 0.9265 - categorical_accuracy: 0.6765 - val_loss: 2.4575 - val_categorical_accuracy: 0.3500 - lr: 6.4000e-08\n",
      "Epoch 24/30\n",
      "23/23 [==============================] - ETA: 0s - loss: 0.8282 - categorical_accuracy: 0.6870\n",
      "Epoch 00024: saving model to model_init_2023-02-1214_28_34.700759/model-00024-0.82818-0.68703-1.84789-0.42000.h5\n",
      "23/23 [==============================] - 148s 7s/step - loss: 0.8282 - categorical_accuracy: 0.6870 - val_loss: 1.8479 - val_categorical_accuracy: 0.4200 - lr: 6.4000e-08\n",
      "Epoch 25/30\n",
      "23/23 [==============================] - ETA: 0s - loss: 0.8787 - categorical_accuracy: 0.6719\n",
      "Epoch 00025: saving model to model_init_2023-02-1214_28_34.700759/model-00025-0.87868-0.67195-1.61940-0.46000.h5\n",
      "23/23 [==============================] - 151s 7s/step - loss: 0.8787 - categorical_accuracy: 0.6719 - val_loss: 1.6194 - val_categorical_accuracy: 0.4600 - lr: 6.4000e-08\n",
      "Epoch 26/30\n",
      "23/23 [==============================] - ETA: 0s - loss: 0.8886 - categorical_accuracy: 0.6795\n",
      "Epoch 00026: saving model to model_init_2023-02-1214_28_34.700759/model-00026-0.88859-0.67949-1.42361-0.58000.h5\n",
      "23/23 [==============================] - 152s 7s/step - loss: 0.8886 - categorical_accuracy: 0.6795 - val_loss: 1.4236 - val_categorical_accuracy: 0.5800 - lr: 6.4000e-08\n",
      "Epoch 27/30\n",
      "23/23 [==============================] - ETA: 0s - loss: 0.9196 - categorical_accuracy: 0.6833\n",
      "Epoch 00027: saving model to model_init_2023-02-1214_28_34.700759/model-00027-0.91965-0.68326-1.12916-0.55000.h5\n",
      "23/23 [==============================] - 153s 7s/step - loss: 0.9196 - categorical_accuracy: 0.6833 - val_loss: 1.1292 - val_categorical_accuracy: 0.5500 - lr: 6.4000e-08\n",
      "Epoch 28/30\n",
      "23/23 [==============================] - ETA: 0s - loss: 0.8027 - categorical_accuracy: 0.7119\n",
      "Epoch 00028: saving model to model_init_2023-02-1214_28_34.700759/model-00028-0.80269-0.71192-1.02855-0.66000.h5\n",
      "23/23 [==============================] - 151s 7s/step - loss: 0.8027 - categorical_accuracy: 0.7119 - val_loss: 1.0286 - val_categorical_accuracy: 0.6600 - lr: 6.4000e-08\n",
      "Epoch 29/30\n",
      "23/23 [==============================] - ETA: 0s - loss: 0.8682 - categorical_accuracy: 0.6795\n",
      "Epoch 00029: saving model to model_init_2023-02-1214_28_34.700759/model-00029-0.86816-0.67949-0.97065-0.66000.h5\n",
      "23/23 [==============================] - 156s 7s/step - loss: 0.8682 - categorical_accuracy: 0.6795 - val_loss: 0.9706 - val_categorical_accuracy: 0.6600 - lr: 6.4000e-08\n",
      "Epoch 30/30\n",
      "23/23 [==============================] - ETA: 0s - loss: 0.8884 - categorical_accuracy: 0.6787\n",
      "Epoch 00030: saving model to model_init_2023-02-1214_28_34.700759/model-00030-0.88835-0.67873-0.87450-0.71000.h5\n",
      "23/23 [==============================] - 155s 7s/step - loss: 0.8884 - categorical_accuracy: 0.6787 - val_loss: 0.8745 - val_categorical_accuracy: 0.7100 - lr: 6.4000e-08\n"
     ]
    }
   ],
   "source": [
    "print(\"Total Params:\", conv_3d_model_4.count_params())\n",
    "history_model_4=conv_3d_4.train_model(conv_3d_model_4,augment_data=True)"
   ]
  },
  {
   "cell_type": "code",
   "execution_count": 27,
   "metadata": {},
   "outputs": [
    {
     "data": {
      "image/png": "[encoded data removed]",
      "text/plain": [
       "<Figure size 1080x288 with 2 Axes>"
      ]
     },
     "metadata": {
      "needs_background": "light"
     },
     "output_type": "display_data"
    }
   ],
   "source": [
    "plot(history_model_4)"
   ]
  },
  {
   "cell_type": "markdown",
   "metadata": {},
   "source": [
    "### Here the model has training accuracy of 67.7% and the validation accuracy of 71.0%."
   ]
  },
  {
   "cell_type": "markdown",
   "metadata": {},
   "source": [
    "### Here, we used the filter with (3,3,3) and decreased the image size. We can see both the accuracies are very near but less."
   ]
  },
  {
   "cell_type": "markdown",
   "metadata": {},
   "source": [
    "### So, let’s try to reduce the number of network parameters and slightly decrease the batch size, epochs. Now observe the loss and accuracies further."
   ]
  },
  {
   "cell_type": "markdown",
   "metadata": {},
   "source": [
    "# Model 5\n",
    "### Reducing network parameters"
   ]
  },
  {
   "cell_type": "code",
   "execution_count": 9,
   "metadata": {},
   "outputs": [],
   "source": [
    "class Conv3DModel_5(GenModelAugmentation):\n",
    "    \n",
    "    def define_model(self,dense_neurons=64,dropout=0.25):\n",
    "\n",
    "        model = Sequential()\n",
    "        model.add(Conv3D(16, (3, 3, 3), padding='same',\n",
    "                 input_shape=(self.frames_to_sample,self.image_height,self.image_width,self.channels)))\n",
    "        model.add(Activation('relu'))\n",
    "        model.add(BatchNormalization())\n",
    "        model.add(MaxPooling3D(pool_size=(2, 2, 2)))\n",
    "\n",
    "        model.add(Conv3D(32, (3, 3, 3), padding='same'))\n",
    "        model.add(Activation('relu'))\n",
    "        model.add(BatchNormalization())\n",
    "        model.add(MaxPooling3D(pool_size=(2, 2, 2)))\n",
    "\n",
    "        model.add(Conv3D(64, (2, 2, 2), padding='same'))\n",
    "        model.add(Activation('relu'))\n",
    "        model.add(BatchNormalization())\n",
    "        model.add(MaxPooling3D(pool_size=(2, 2, 2)))\n",
    "\n",
    "        model.add(Conv3D(128, (2, 2, 2), padding='same'))\n",
    "        model.add(Activation('relu'))\n",
    "        model.add(BatchNormalization())\n",
    "        model.add(MaxPooling3D(pool_size=(2, 2, 2)))\n",
    "        \n",
    "        model.add(Flatten())\n",
    "        model.add(Dense(dense_neurons,activation='relu'))\n",
    "        model.add(BatchNormalization())\n",
    "        model.add(Dropout(dropout))\n",
    "\n",
    "        model.add(Dense(dense_neurons,activation='relu'))\n",
    "        model.add(BatchNormalization())\n",
    "        model.add(Dropout(dropout))\n",
    "\n",
    "        model.add(Dense(self.num_classes,activation='softmax'))\n",
    "\n",
    "        optimiser = tf.optimizers.Adam(lr=0.0002)\n",
    "        model.compile(optimizer=optimiser, loss='categorical_crossentropy', metrics=['categorical_accuracy'])\n",
    "        return model"
   ]
  },
  {
   "cell_type": "code",
   "execution_count": 10,
   "metadata": {},
   "outputs": [
    {
     "name": "stderr",
     "output_type": "stream",
     "text": [
      "2023-02-13 10:44:24.830840: W tensorflow/core/common_runtime/gpu/gpu_bfc_allocator.cc:39] Overriding allow_growth setting because the TF_FORCE_GPU_ALLOW_GROWTH environment variable is set. Original config value was 0.\n",
      "2023-02-13 10:44:24.830938: I tensorflow/core/common_runtime/gpu/gpu_device.cc:1525] Created device /job:localhost/replica:0/task:0/device:GPU:0 with 14802 MB memory:  -> device: 0, name: Quadro RTX 5000, pci bus id: 0000:1e:00.0, compute capability: 7.5\n"
     ]
    },
    {
     "name": "stdout",
     "output_type": "stream",
     "text": [
      "Model: \"sequential\"\n",
      "_________________________________________________________________\n",
      " Layer (type)                Output Shape              Param #   \n",
      "=================================================================\n",
      " conv3d (Conv3D)             (None, 16, 120, 120, 16)  1312      \n",
      "                                                                 \n",
      " activation (Activation)     (None, 16, 120, 120, 16)  0         \n",
      "                                                                 \n",
      " batch_normalization (BatchN  (None, 16, 120, 120, 16)  64       \n",
      " ormalization)                                                   \n",
      "                                                                 \n",
      " max_pooling3d (MaxPooling3D  (None, 8, 60, 60, 16)    0         \n",
      " )                                                               \n",
      "                                                                 \n",
      " conv3d_1 (Conv3D)           (None, 8, 60, 60, 32)     13856     \n",
      "                                                                 \n",
      " activation_1 (Activation)   (None, 8, 60, 60, 32)     0         \n",
      "                                                                 \n",
      " batch_normalization_1 (Batc  (None, 8, 60, 60, 32)    128       \n",
      " hNormalization)                                                 \n",
      "                                                                 \n",
      " max_pooling3d_1 (MaxPooling  (None, 4, 30, 30, 32)    0         \n",
      " 3D)                                                             \n",
      "                                                                 \n",
      " conv3d_2 (Conv3D)           (None, 4, 30, 30, 64)     16448     \n",
      "                                                                 \n",
      " activation_2 (Activation)   (None, 4, 30, 30, 64)     0         \n",
      "                                                                 \n",
      " batch_normalization_2 (Batc  (None, 4, 30, 30, 64)    256       \n",
      " hNormalization)                                                 \n",
      "                                                                 \n",
      " max_pooling3d_2 (MaxPooling  (None, 2, 15, 15, 64)    0         \n",
      " 3D)                                                             \n",
      "                                                                 \n",
      " conv3d_3 (Conv3D)           (None, 2, 15, 15, 128)    65664     \n",
      "                                                                 \n",
      " activation_3 (Activation)   (None, 2, 15, 15, 128)    0         \n",
      "                                                                 \n",
      " batch_normalization_3 (Batc  (None, 2, 15, 15, 128)   512       \n",
      " hNormalization)                                                 \n",
      "                                                                 \n",
      " max_pooling3d_3 (MaxPooling  (None, 1, 7, 7, 128)     0         \n",
      " 3D)                                                             \n",
      "                                                                 \n",
      " flatten (Flatten)           (None, 6272)              0         \n",
      "                                                                 \n",
      " dense (Dense)               (None, 64)                401472    \n",
      "                                                                 \n",
      " batch_normalization_4 (Batc  (None, 64)               256       \n",
      " hNormalization)                                                 \n",
      "                                                                 \n",
      " dropout (Dropout)           (None, 64)                0         \n",
      "                                                                 \n",
      " dense_1 (Dense)             (None, 64)                4160      \n",
      "                                                                 \n",
      " batch_normalization_5 (Batc  (None, 64)               256       \n",
      " hNormalization)                                                 \n",
      "                                                                 \n",
      " dropout_1 (Dropout)         (None, 64)                0         \n",
      "                                                                 \n",
      " dense_2 (Dense)             (None, 5)                 325       \n",
      "                                                                 \n",
      "=================================================================\n",
      "Total params: 504,709\n",
      "Trainable params: 503,973\n",
      "Non-trainable params: 736\n",
      "_________________________________________________________________\n"
     ]
    }
   ],
   "source": [
    "conv_3d_5=Conv3DModel_5()\n",
    "conv_3d_5.initialize_path(project_folder)\n",
    "conv_3d_5.initialize_image_properties(image_height=120,image_width=120)\n",
    "conv_3d_5.initialize_hyperparams(frames_to_sample=16,batch_size=20,num_epochs=25)\n",
    "conv_3d_model_5=conv_3d_5.define_model(dense_neurons=64,dropout=0.25)\n",
    "conv_3d_model_5.summary()"
   ]
  },
  {
   "cell_type": "code",
   "execution_count": 11,
   "metadata": {},
   "outputs": [
    {
     "name": "stdout",
     "output_type": "stream",
     "text": [
      "Total Params: 504709\n",
      "WARNING:tensorflow:`period` argument is deprecated. Please use `save_freq` to specify the frequency in number of batches seen.\n",
      "Epoch 1/25\n"
     ]
    },
    {
     "name": "stderr",
     "output_type": "stream",
     "text": [
      "2023-02-13 10:44:41.972994: I tensorflow/stream_executor/cuda/cuda_dnn.cc:377] Loaded cuDNN version 8302\n"
     ]
    },
    {
     "name": "stdout",
     "output_type": "stream",
     "text": [
      "34/34 [==============================] - ETA: 0s - loss: 1.8040 - categorical_accuracy: 0.3401\n",
      "Epoch 00001: saving model to model_init_2023-02-1310_44_35.989925/model-00001-1.80404-0.34012-2.02313-0.21000.h5\n",
      "34/34 [==============================] - 159s 5s/step - loss: 1.8040 - categorical_accuracy: 0.3401 - val_loss: 2.0231 - val_categorical_accuracy: 0.2100 - lr: 2.0000e-04\n",
      "Epoch 2/25\n",
      "34/34 [==============================] - ETA: 0s - loss: 1.2585 - categorical_accuracy: 0.5030\n",
      "Epoch 00002: saving model to model_init_2023-02-1310_44_35.989925/model-00002-1.25854-0.50302-2.77183-0.20000.h5\n",
      "34/34 [==============================] - 151s 5s/step - loss: 1.2585 - categorical_accuracy: 0.5030 - val_loss: 2.7718 - val_categorical_accuracy: 0.2000 - lr: 2.0000e-04\n",
      "Epoch 3/25\n",
      "34/34 [==============================] - ETA: 0s - loss: 1.0964 - categorical_accuracy: 0.5792\n",
      "Epoch 00003: saving model to model_init_2023-02-1310_44_35.989925/model-00003-1.09640-0.57919-3.89721-0.26000.h5\n",
      "34/34 [==============================] - 153s 5s/step - loss: 1.0964 - categorical_accuracy: 0.5792 - val_loss: 3.8972 - val_categorical_accuracy: 0.2600 - lr: 2.0000e-04\n",
      "Epoch 4/25\n",
      "34/34 [==============================] - ETA: 0s - loss: 0.9960 - categorical_accuracy: 0.6237\n",
      "Epoch 00004: saving model to model_init_2023-02-1310_44_35.989925/model-00004-0.99602-0.62368-5.25462-0.15000.h5\n",
      "34/34 [==============================] - 151s 5s/step - loss: 0.9960 - categorical_accuracy: 0.6237 - val_loss: 5.2546 - val_categorical_accuracy: 0.1500 - lr: 2.0000e-04\n",
      "Epoch 5/25\n",
      "34/34 [==============================] - ETA: 0s - loss: 0.8543 - categorical_accuracy: 0.6810\n",
      "Epoch 00005: saving model to model_init_2023-02-1310_44_35.989925/model-00005-0.85432-0.68100-5.05374-0.24000.h5\n",
      "\n",
      "Epoch 00005: ReduceLROnPlateau reducing learning rate to 3.9999998989515007e-05.\n",
      "34/34 [==============================] - 153s 5s/step - loss: 0.8543 - categorical_accuracy: 0.6810 - val_loss: 5.0537 - val_categorical_accuracy: 0.2400 - lr: 2.0000e-04\n",
      "Epoch 6/25\n",
      "34/34 [==============================] - ETA: 0s - loss: 0.7253 - categorical_accuracy: 0.7391\n",
      "Epoch 00006: saving model to model_init_2023-02-1310_44_35.989925/model-00006-0.72528-0.73906-5.29952-0.21000.h5\n",
      "34/34 [==============================] - 152s 5s/step - loss: 0.7253 - categorical_accuracy: 0.7391 - val_loss: 5.2995 - val_categorical_accuracy: 0.2100 - lr: 4.0000e-05\n",
      "Epoch 7/25\n",
      "34/34 [==============================] - ETA: 0s - loss: 0.6768 - categorical_accuracy: 0.7474\n",
      "Epoch 00007: saving model to model_init_2023-02-1310_44_35.989925/model-00007-0.67680-0.74736-4.85430-0.24000.h5\n",
      "34/34 [==============================] - 153s 5s/step - loss: 0.6768 - categorical_accuracy: 0.7474 - val_loss: 4.8543 - val_categorical_accuracy: 0.2400 - lr: 4.0000e-05\n",
      "Epoch 8/25\n",
      "34/34 [==============================] - ETA: 0s - loss: 0.6823 - categorical_accuracy: 0.7353\n",
      "Epoch 00008: saving model to model_init_2023-02-1310_44_35.989925/model-00008-0.68227-0.73529-5.53943-0.21000.h5\n",
      "34/34 [==============================] - 154s 5s/step - loss: 0.6823 - categorical_accuracy: 0.7353 - val_loss: 5.5394 - val_categorical_accuracy: 0.2100 - lr: 4.0000e-05\n",
      "Epoch 9/25\n",
      "34/34 [==============================] - ETA: 0s - loss: 0.7136 - categorical_accuracy: 0.7360\n",
      "Epoch 00009: saving model to model_init_2023-02-1310_44_35.989925/model-00009-0.71358-0.73605-4.53094-0.21000.h5\n",
      "\n",
      "Epoch 00009: ReduceLROnPlateau reducing learning rate to 7.999999797903002e-06.\n",
      "34/34 [==============================] - 151s 5s/step - loss: 0.7136 - categorical_accuracy: 0.7360 - val_loss: 4.5309 - val_categorical_accuracy: 0.2100 - lr: 4.0000e-05\n",
      "Epoch 10/25\n",
      "34/34 [==============================] - ETA: 0s - loss: 0.6410 - categorical_accuracy: 0.7722\n",
      "Epoch 00010: saving model to model_init_2023-02-1310_44_35.989925/model-00010-0.64097-0.77225-4.13113-0.20000.h5\n",
      "34/34 [==============================] - 153s 5s/step - loss: 0.6410 - categorical_accuracy: 0.7722 - val_loss: 4.1311 - val_categorical_accuracy: 0.2000 - lr: 8.0000e-06\n",
      "Epoch 11/25\n",
      "34/34 [==============================] - ETA: 0s - loss: 0.6321 - categorical_accuracy: 0.7655\n",
      "Epoch 00011: saving model to model_init_2023-02-1310_44_35.989925/model-00011-0.63215-0.76546-3.73370-0.24000.h5\n",
      "34/34 [==============================] - 151s 5s/step - loss: 0.6321 - categorical_accuracy: 0.7655 - val_loss: 3.7337 - val_categorical_accuracy: 0.2400 - lr: 8.0000e-06\n",
      "Epoch 12/25\n",
      "34/34 [==============================] - ETA: 0s - loss: 0.6439 - categorical_accuracy: 0.7474\n",
      "Epoch 00012: saving model to model_init_2023-02-1310_44_35.989925/model-00012-0.64388-0.74736-3.53418-0.21000.h5\n",
      "34/34 [==============================] - 175s 5s/step - loss: 0.6439 - categorical_accuracy: 0.7474 - val_loss: 3.5342 - val_categorical_accuracy: 0.2100 - lr: 8.0000e-06\n",
      "Epoch 13/25\n",
      "34/34 [==============================] - ETA: 0s - loss: 0.6098 - categorical_accuracy: 0.7851\n",
      "Epoch 00013: saving model to model_init_2023-02-1310_44_35.989925/model-00013-0.60984-0.78507-2.37427-0.40000.h5\n",
      "\n",
      "Epoch 00013: ReduceLROnPlateau reducing learning rate to 1.5999999959603884e-06.\n",
      "34/34 [==============================] - 179s 5s/step - loss: 0.6098 - categorical_accuracy: 0.7851 - val_loss: 2.3743 - val_categorical_accuracy: 0.4000 - lr: 8.0000e-06\n",
      "Epoch 14/25\n",
      "34/34 [==============================] - ETA: 0s - loss: 0.6366 - categorical_accuracy: 0.7617\n",
      "Epoch 00014: saving model to model_init_2023-02-1310_44_35.989925/model-00014-0.63658-0.76169-1.93235-0.39000.h5\n",
      "34/34 [==============================] - 152s 5s/step - loss: 0.6366 - categorical_accuracy: 0.7617 - val_loss: 1.9324 - val_categorical_accuracy: 0.3900 - lr: 1.6000e-06\n",
      "Epoch 15/25\n",
      "34/34 [==============================] - ETA: 0s - loss: 0.6142 - categorical_accuracy: 0.7836\n",
      "Epoch 00015: saving model to model_init_2023-02-1310_44_35.989925/model-00015-0.61418-0.78356-1.34885-0.53000.h5\n",
      "34/34 [==============================] - 154s 5s/step - loss: 0.6142 - categorical_accuracy: 0.7836 - val_loss: 1.3488 - val_categorical_accuracy: 0.5300 - lr: 1.6000e-06\n",
      "Epoch 16/25\n",
      "34/34 [==============================] - ETA: 0s - loss: 0.6476 - categorical_accuracy: 0.7662\n",
      "Epoch 00016: saving model to model_init_2023-02-1310_44_35.989925/model-00016-0.64763-0.76621-1.22447-0.60000.h5\n",
      "34/34 [==============================] - 153s 5s/step - loss: 0.6476 - categorical_accuracy: 0.7662 - val_loss: 1.2245 - val_categorical_accuracy: 0.6000 - lr: 1.6000e-06\n",
      "Epoch 17/25\n",
      "34/34 [==============================] - ETA: 0s - loss: 0.6196 - categorical_accuracy: 0.7745\n",
      "Epoch 00017: saving model to model_init_2023-02-1310_44_35.989925/model-00017-0.61964-0.77451-0.95833-0.68000.h5\n",
      "34/34 [==============================] - 151s 5s/step - loss: 0.6196 - categorical_accuracy: 0.7745 - val_loss: 0.9583 - val_categorical_accuracy: 0.6800 - lr: 1.6000e-06\n",
      "Epoch 18/25\n",
      "34/34 [==============================] - ETA: 0s - loss: 0.6495 - categorical_accuracy: 0.7722\n",
      "Epoch 00018: saving model to model_init_2023-02-1310_44_35.989925/model-00018-0.64949-0.77225-0.79331-0.73000.h5\n",
      "34/34 [==============================] - 150s 5s/step - loss: 0.6495 - categorical_accuracy: 0.7722 - val_loss: 0.7933 - val_categorical_accuracy: 0.7300 - lr: 1.6000e-06\n",
      "Epoch 19/25\n",
      "34/34 [==============================] - ETA: 0s - loss: 0.5838 - categorical_accuracy: 0.7828\n",
      "Epoch 00019: saving model to model_init_2023-02-1310_44_35.989925/model-00019-0.58382-0.78281-0.75337-0.73000.h5\n",
      "34/34 [==============================] - 152s 5s/step - loss: 0.5838 - categorical_accuracy: 0.7828 - val_loss: 0.7534 - val_categorical_accuracy: 0.7300 - lr: 1.6000e-06\n",
      "Epoch 20/25\n",
      "34/34 [==============================] - ETA: 0s - loss: 0.6450 - categorical_accuracy: 0.7715\n",
      "Epoch 00020: saving model to model_init_2023-02-1310_44_35.989925/model-00020-0.64496-0.77149-0.70499-0.73000.h5\n",
      "34/34 [==============================] - 153s 5s/step - loss: 0.6450 - categorical_accuracy: 0.7715 - val_loss: 0.7050 - val_categorical_accuracy: 0.7300 - lr: 1.6000e-06\n",
      "Epoch 21/25\n",
      "34/34 [==============================] - ETA: 0s - loss: 0.6133 - categorical_accuracy: 0.7836\n",
      "Epoch 00021: saving model to model_init_2023-02-1310_44_35.989925/model-00021-0.61329-0.78356-0.62716-0.75000.h5\n",
      "34/34 [==============================] - 153s 5s/step - loss: 0.6133 - categorical_accuracy: 0.7836 - val_loss: 0.6272 - val_categorical_accuracy: 0.7500 - lr: 1.6000e-06\n",
      "Epoch 22/25\n",
      "34/34 [==============================] - ETA: 0s - loss: 0.6026 - categorical_accuracy: 0.7903\n",
      "Epoch 00022: saving model to model_init_2023-02-1310_44_35.989925/model-00022-0.60262-0.79035-0.59595-0.75000.h5\n",
      "34/34 [==============================] - 154s 5s/step - loss: 0.6026 - categorical_accuracy: 0.7903 - val_loss: 0.5959 - val_categorical_accuracy: 0.7500 - lr: 1.6000e-06\n",
      "Epoch 23/25\n",
      "34/34 [==============================] - ETA: 0s - loss: 0.6165 - categorical_accuracy: 0.7722\n",
      "Epoch 00023: saving model to model_init_2023-02-1310_44_35.989925/model-00023-0.61648-0.77225-0.61465-0.79000.h5\n",
      "34/34 [==============================] - 152s 5s/step - loss: 0.6165 - categorical_accuracy: 0.7722 - val_loss: 0.6146 - val_categorical_accuracy: 0.7900 - lr: 1.6000e-06\n",
      "Epoch 24/25\n",
      "34/34 [==============================] - ETA: 0s - loss: 0.6043 - categorical_accuracy: 0.7896\n",
      "Epoch 00024: saving model to model_init_2023-02-1310_44_35.989925/model-00024-0.60434-0.78959-0.68142-0.74000.h5\n",
      "34/34 [==============================] - 151s 5s/step - loss: 0.6043 - categorical_accuracy: 0.7896 - val_loss: 0.6814 - val_categorical_accuracy: 0.7400 - lr: 1.6000e-06\n",
      "Epoch 25/25\n",
      "34/34 [==============================] - ETA: 0s - loss: 0.6335 - categorical_accuracy: 0.7662\n",
      "Epoch 00025: saving model to model_init_2023-02-1310_44_35.989925/model-00025-0.63351-0.76621-0.59070-0.76000.h5\n",
      "34/34 [==============================] - 153s 5s/step - loss: 0.6335 - categorical_accuracy: 0.7662 - val_loss: 0.5907 - val_categorical_accuracy: 0.7600 - lr: 1.6000e-06\n"
     ]
    }
   ],
   "source": [
    "print(\"Total Params:\", conv_3d_model_5.count_params())\n",
    "history_model_5=conv_3d_5.train_model(conv_3d_model_5,augment_data=True)"
   ]
  },
  {
   "cell_type": "code",
   "execution_count": 24,
   "metadata": {},
   "outputs": [
    {
     "data": {
      "image/png": "[encoded data removed]",
      "text/plain": [
       "<Figure size 1080x288 with 2 Axes>"
      ]
     },
     "metadata": {
      "needs_background": "light"
     },
     "output_type": "display_data"
    }
   ],
   "source": [
    "plot(history_model_5)"
   ]
  },
  {
   "cell_type": "markdown",
   "metadata": {},
   "source": [
    "### Here the model has training accuracy of 76.62% and the validation accuracy of 76.0%."
   ]
  },
  {
   "cell_type": "markdown",
   "metadata": {},
   "source": [
    "### Here, we used the filter with (3,3,3). We can see both the accuracies are very near and observes pretty good but low in percentages"
   ]
  },
  {
   "cell_type": "markdown",
   "metadata": {},
   "source": [
    "### So, let’s try CNN LSTM with GRU models."
   ]
  },
  {
   "cell_type": "markdown",
   "metadata": {},
   "source": [
    "# Model 6\n",
    "## CNN LSTM with GRU"
   ]
  },
  {
   "cell_type": "code",
   "execution_count": 33,
   "metadata": {},
   "outputs": [],
   "source": [
    "class RNNCNN2(GenModelAugmentation):\n",
    "    \n",
    "    def define_model(self,lstm_cells=64,dense_neurons=64,dropout=0.25):\n",
    "\n",
    "        model = Sequential()\n",
    "\n",
    "        model.add(TimeDistributed(Conv2D(16, (3, 3) , padding='same', activation='relu'),\n",
    "                                  input_shape=(self.frames_to_sample,self.image_height,self.image_width,self.channels)))\n",
    "        model.add(TimeDistributed(BatchNormalization()))\n",
    "        model.add(TimeDistributed(MaxPooling2D((2, 2))))\n",
    "        \n",
    "        model.add(TimeDistributed(Conv2D(32, (3, 3) , padding='same', activation='relu')))\n",
    "        model.add(TimeDistributed(BatchNormalization()))\n",
    "        model.add(TimeDistributed(MaxPooling2D((2, 2))))\n",
    "        \n",
    "        model.add(TimeDistributed(Conv2D(64, (3, 3) , padding='same', activation='relu')))\n",
    "        model.add(TimeDistributed(BatchNormalization()))\n",
    "        model.add(TimeDistributed(MaxPooling2D((2, 2))))\n",
    "        \n",
    "        model.add(TimeDistributed(Conv2D(128, (3, 3) , padding='same', activation='relu')))\n",
    "        model.add(TimeDistributed(BatchNormalization()))\n",
    "        model.add(TimeDistributed(MaxPooling2D((2, 2))))\n",
    "        \n",
    "\n",
    "        model.add(TimeDistributed(Flatten()))\n",
    "\n",
    "\n",
    "        model.add(GRU(lstm_cells))\n",
    "        model.add(Dropout(dropout))\n",
    "        \n",
    "        model.add(Dense(dense_neurons,activation='relu'))\n",
    "        model.add(Dropout(dropout))\n",
    "        \n",
    "        model.add(Dense(self.num_classes, activation='softmax'))\n",
    "        optimiser = tf.optimizers.Adam(lr=0.0002)\n",
    "        model.compile(optimizer=optimiser, loss='categorical_crossentropy', metrics=['categorical_accuracy'])\n",
    "        return model"
   ]
  },
  {
   "cell_type": "code",
   "execution_count": 34,
   "metadata": {},
   "outputs": [
    {
     "name": "stdout",
     "output_type": "stream",
     "text": [
      "Model: \"sequential_2\"\n",
      "_________________________________________________________________\n",
      " Layer (type)                Output Shape              Param #   \n",
      "=================================================================\n",
      " time_distributed (TimeDistr  (None, 18, 120, 120, 16)  448      \n",
      " ibuted)                                                         \n",
      "                                                                 \n",
      " time_distributed_1 (TimeDis  (None, 18, 120, 120, 16)  64       \n",
      " tributed)                                                       \n",
      "                                                                 \n",
      " time_distributed_2 (TimeDis  (None, 18, 60, 60, 16)   0         \n",
      " tributed)                                                       \n",
      "                                                                 \n",
      " time_distributed_3 (TimeDis  (None, 18, 60, 60, 32)   4640      \n",
      " tributed)                                                       \n",
      "                                                                 \n",
      " time_distributed_4 (TimeDis  (None, 18, 60, 60, 32)   128       \n",
      " tributed)                                                       \n",
      "                                                                 \n",
      " time_distributed_5 (TimeDis  (None, 18, 30, 30, 32)   0         \n",
      " tributed)                                                       \n",
      "                                                                 \n",
      " time_distributed_6 (TimeDis  (None, 18, 30, 30, 64)   18496     \n",
      " tributed)                                                       \n",
      "                                                                 \n",
      " time_distributed_7 (TimeDis  (None, 18, 30, 30, 64)   256       \n",
      " tributed)                                                       \n",
      "                                                                 \n",
      " time_distributed_8 (TimeDis  (None, 18, 15, 15, 64)   0         \n",
      " tributed)                                                       \n",
      "                                                                 \n",
      " time_distributed_9 (TimeDis  (None, 18, 15, 15, 128)  73856     \n",
      " tributed)                                                       \n",
      "                                                                 \n",
      " time_distributed_10 (TimeDi  (None, 18, 15, 15, 128)  512       \n",
      " stributed)                                                      \n",
      "                                                                 \n",
      " time_distributed_11 (TimeDi  (None, 18, 7, 7, 128)    0         \n",
      " stributed)                                                      \n",
      "                                                                 \n",
      " time_distributed_12 (TimeDi  (None, 18, 6272)         0         \n",
      " stributed)                                                      \n",
      "                                                                 \n",
      " gru (GRU)                   (None, 128)               2458368   \n",
      "                                                                 \n",
      " dropout_4 (Dropout)         (None, 128)               0         \n",
      "                                                                 \n",
      " dense_6 (Dense)             (None, 128)               16512     \n",
      "                                                                 \n",
      " dropout_5 (Dropout)         (None, 128)               0         \n",
      "                                                                 \n",
      " dense_7 (Dense)             (None, 5)                 645       \n",
      "                                                                 \n",
      "=================================================================\n",
      "Total params: 2,573,925\n",
      "Trainable params: 2,573,445\n",
      "Non-trainable params: 480\n",
      "_________________________________________________________________\n"
     ]
    }
   ],
   "source": [
    "rnn_cnn2=RNNCNN2()\n",
    "rnn_cnn2.initialize_path(project_folder)\n",
    "rnn_cnn2.initialize_image_properties(image_height=120,image_width=120)\n",
    "rnn_cnn2.initialize_hyperparams(frames_to_sample=18,batch_size=20,num_epochs=20)\n",
    "rnn_cnn2_model=rnn_cnn2.define_model(lstm_cells=128,dense_neurons=128,dropout=0.25)\n",
    "rnn_cnn2_model.summary()"
   ]
  },
  {
   "cell_type": "code",
   "execution_count": 35,
   "metadata": {},
   "outputs": [
    {
     "name": "stdout",
     "output_type": "stream",
     "text": [
      "Total Params: 2573925\n",
      "WARNING:tensorflow:`period` argument is deprecated. Please use `save_freq` to specify the frequency in number of batches seen.\n",
      "Epoch 1/20\n",
      "34/34 [==============================] - ETA: 0s - loss: 1.4977 - categorical_accuracy: 0.3673\n",
      "Epoch 00001: saving model to model_init_2023-02-1216_59_07.459936/model-00001-1.49774-0.36727-1.62120-0.24000.h5\n",
      "34/34 [==============================] - 180s 5s/step - loss: 1.4977 - categorical_accuracy: 0.3673 - val_loss: 1.6212 - val_categorical_accuracy: 0.2400 - lr: 2.0000e-04\n",
      "Epoch 2/20\n",
      "34/34 [==============================] - ETA: 0s - loss: 1.0050 - categorical_accuracy: 0.6078\n",
      "Epoch 00002: saving model to model_init_2023-02-1216_59_07.459936/model-00002-1.00500-0.60784-1.96049-0.21000.h5\n",
      "34/34 [==============================] - 177s 5s/step - loss: 1.0050 - categorical_accuracy: 0.6078 - val_loss: 1.9605 - val_categorical_accuracy: 0.2100 - lr: 2.0000e-04\n",
      "Epoch 3/20\n",
      "34/34 [==============================] - ETA: 0s - loss: 0.8032 - categorical_accuracy: 0.7006\n",
      "Epoch 00003: saving model to model_init_2023-02-1216_59_07.459936/model-00003-0.80316-0.70060-2.27600-0.20000.h5\n",
      "34/34 [==============================] - 177s 5s/step - loss: 0.8032 - categorical_accuracy: 0.7006 - val_loss: 2.2760 - val_categorical_accuracy: 0.2000 - lr: 2.0000e-04\n",
      "Epoch 4/20\n",
      "34/34 [==============================] - ETA: 0s - loss: 0.6692 - categorical_accuracy: 0.7557\n",
      "Epoch 00004: saving model to model_init_2023-02-1216_59_07.459936/model-00004-0.66915-0.75566-2.61204-0.24000.h5\n",
      "34/34 [==============================] - 175s 5s/step - loss: 0.6692 - categorical_accuracy: 0.7557 - val_loss: 2.6120 - val_categorical_accuracy: 0.2400 - lr: 2.0000e-04\n",
      "Epoch 5/20\n",
      "34/34 [==============================] - ETA: 0s - loss: 0.5323 - categorical_accuracy: 0.8062\n",
      "Epoch 00005: saving model to model_init_2023-02-1216_59_07.459936/model-00005-0.53231-0.80618-2.46886-0.27000.h5\n",
      "\n",
      "Epoch 00005: ReduceLROnPlateau reducing learning rate to 3.9999998989515007e-05.\n",
      "34/34 [==============================] - 177s 5s/step - loss: 0.5323 - categorical_accuracy: 0.8062 - val_loss: 2.4689 - val_categorical_accuracy: 0.2700 - lr: 2.0000e-04\n",
      "Epoch 6/20\n",
      "34/34 [==============================] - ETA: 0s - loss: 0.4072 - categorical_accuracy: 0.8741\n",
      "Epoch 00006: saving model to model_init_2023-02-1216_59_07.459936/model-00006-0.40718-0.87406-2.30649-0.25000.h5\n",
      "34/34 [==============================] - 176s 5s/step - loss: 0.4072 - categorical_accuracy: 0.8741 - val_loss: 2.3065 - val_categorical_accuracy: 0.2500 - lr: 4.0000e-05\n",
      "Epoch 7/20\n",
      "34/34 [==============================] - ETA: 0s - loss: 0.3687 - categorical_accuracy: 0.8771\n",
      "Epoch 00007: saving model to model_init_2023-02-1216_59_07.459936/model-00007-0.36868-0.87707-2.17701-0.31000.h5\n",
      "34/34 [==============================] - 175s 5s/step - loss: 0.3687 - categorical_accuracy: 0.8771 - val_loss: 2.1770 - val_categorical_accuracy: 0.3100 - lr: 4.0000e-05\n",
      "Epoch 8/20\n",
      "34/34 [==============================] - ETA: 0s - loss: 0.3494 - categorical_accuracy: 0.8967\n",
      "Epoch 00008: saving model to model_init_2023-02-1216_59_07.459936/model-00008-0.34939-0.89668-2.15321-0.27000.h5\n",
      "34/34 [==============================] - 176s 5s/step - loss: 0.3494 - categorical_accuracy: 0.8967 - val_loss: 2.1532 - val_categorical_accuracy: 0.2700 - lr: 4.0000e-05\n",
      "Epoch 9/20\n",
      "34/34 [==============================] - ETA: 0s - loss: 0.3066 - categorical_accuracy: 0.9148\n",
      "Epoch 00009: saving model to model_init_2023-02-1216_59_07.459936/model-00009-0.30658-0.91478-2.09942-0.38000.h5\n",
      "\n",
      "Epoch 00009: ReduceLROnPlateau reducing learning rate to 7.999999797903002e-06.\n",
      "34/34 [==============================] - 175s 5s/step - loss: 0.3066 - categorical_accuracy: 0.9148 - val_loss: 2.0994 - val_categorical_accuracy: 0.3800 - lr: 4.0000e-05\n",
      "Epoch 10/20\n",
      "34/34 [==============================] - ETA: 0s - loss: 0.3026 - categorical_accuracy: 0.9125\n",
      "Epoch 00010: saving model to model_init_2023-02-1216_59_07.459936/model-00010-0.30256-0.91252-1.95429-0.38000.h5\n",
      "34/34 [==============================] - 177s 5s/step - loss: 0.3026 - categorical_accuracy: 0.9125 - val_loss: 1.9543 - val_categorical_accuracy: 0.3800 - lr: 8.0000e-06\n",
      "Epoch 11/20\n",
      "34/34 [==============================] - ETA: 0s - loss: 0.3052 - categorical_accuracy: 0.9057\n",
      "Epoch 00011: saving model to model_init_2023-02-1216_59_07.459936/model-00011-0.30516-0.90573-1.74033-0.44000.h5\n",
      "34/34 [==============================] - 178s 5s/step - loss: 0.3052 - categorical_accuracy: 0.9057 - val_loss: 1.7403 - val_categorical_accuracy: 0.4400 - lr: 8.0000e-06\n",
      "Epoch 12/20\n",
      "34/34 [==============================] - ETA: 0s - loss: 0.2882 - categorical_accuracy: 0.9148\n",
      "Epoch 00012: saving model to model_init_2023-02-1216_59_07.459936/model-00012-0.28824-0.91478-1.46854-0.50000.h5\n",
      "34/34 [==============================] - 178s 5s/step - loss: 0.2882 - categorical_accuracy: 0.9148 - val_loss: 1.4685 - val_categorical_accuracy: 0.5000 - lr: 8.0000e-06\n",
      "Epoch 13/20\n",
      "34/34 [==============================] - ETA: 0s - loss: 0.2840 - categorical_accuracy: 0.9193\n",
      "Epoch 00013: saving model to model_init_2023-02-1216_59_07.459936/model-00013-0.28398-0.91931-1.24152-0.59000.h5\n",
      "34/34 [==============================] - 177s 5s/step - loss: 0.2840 - categorical_accuracy: 0.9193 - val_loss: 1.2415 - val_categorical_accuracy: 0.5900 - lr: 8.0000e-06\n",
      "Epoch 14/20\n",
      "34/34 [==============================] - ETA: 0s - loss: 0.2605 - categorical_accuracy: 0.9336\n",
      "Epoch 00014: saving model to model_init_2023-02-1216_59_07.459936/model-00014-0.26048-0.93363-1.14028-0.63000.h5\n",
      "34/34 [==============================] - 174s 5s/step - loss: 0.2605 - categorical_accuracy: 0.9336 - val_loss: 1.1403 - val_categorical_accuracy: 0.6300 - lr: 8.0000e-06\n",
      "Epoch 15/20\n",
      "34/34 [==============================] - ETA: 0s - loss: 0.2689 - categorical_accuracy: 0.9284\n",
      "Epoch 00015: saving model to model_init_2023-02-1216_59_07.459936/model-00015-0.26886-0.92836-0.99937-0.62000.h5\n",
      "34/34 [==============================] - 176s 5s/step - loss: 0.2689 - categorical_accuracy: 0.9284 - val_loss: 0.9994 - val_categorical_accuracy: 0.6200 - lr: 8.0000e-06\n",
      "Epoch 16/20\n",
      "34/34 [==============================] - ETA: 0s - loss: 0.2957 - categorical_accuracy: 0.9103\n",
      "Epoch 00016: saving model to model_init_2023-02-1216_59_07.459936/model-00016-0.29574-0.91026-0.80822-0.69000.h5\n",
      "34/34 [==============================] - 176s 5s/step - loss: 0.2957 - categorical_accuracy: 0.9103 - val_loss: 0.8082 - val_categorical_accuracy: 0.6900 - lr: 8.0000e-06\n",
      "Epoch 17/20\n",
      "34/34 [==============================] - ETA: 0s - loss: 0.2706 - categorical_accuracy: 0.9178\n",
      "Epoch 00017: saving model to model_init_2023-02-1216_59_07.459936/model-00017-0.27062-0.91780-0.70193-0.67000.h5\n",
      "34/34 [==============================] - 174s 5s/step - loss: 0.2706 - categorical_accuracy: 0.9178 - val_loss: 0.7019 - val_categorical_accuracy: 0.6700 - lr: 8.0000e-06\n",
      "Epoch 18/20\n",
      "34/34 [==============================] - ETA: 0s - loss: 0.2596 - categorical_accuracy: 0.9238\n",
      "Epoch 00018: saving model to model_init_2023-02-1216_59_07.459936/model-00018-0.25962-0.92383-0.59275-0.78000.h5\n",
      "34/34 [==============================] - 175s 5s/step - loss: 0.2596 - categorical_accuracy: 0.9238 - val_loss: 0.5928 - val_categorical_accuracy: 0.7800 - lr: 8.0000e-06\n",
      "Epoch 19/20\n",
      "34/34 [==============================] - ETA: 0s - loss: 0.2665 - categorical_accuracy: 0.9268\n",
      "Epoch 00019: saving model to model_init_2023-02-1216_59_07.459936/model-00019-0.26648-0.92685-0.63870-0.80000.h5\n",
      "34/34 [==============================] - 177s 5s/step - loss: 0.2665 - categorical_accuracy: 0.9268 - val_loss: 0.6387 - val_categorical_accuracy: 0.8000 - lr: 8.0000e-06\n",
      "Epoch 20/20\n",
      "34/34 [==============================] - ETA: 0s - loss: 0.2426 - categorical_accuracy: 0.9336\n",
      "Epoch 00020: saving model to model_init_2023-02-1216_59_07.459936/model-00020-0.24264-0.93363-0.54978-0.77000.h5\n",
      "34/34 [==============================] - 175s 5s/step - loss: 0.2426 - categorical_accuracy: 0.9336 - val_loss: 0.5498 - val_categorical_accuracy: 0.7700 - lr: 8.0000e-06\n"
     ]
    }
   ],
   "source": [
    "print(\"Total Params:\", rnn_cnn2_model.count_params())\n",
    "history_model6=rnn_cnn2.train_model(rnn_cnn2_model,augment_data=True)"
   ]
  },
  {
   "cell_type": "code",
   "execution_count": 41,
   "metadata": {},
   "outputs": [
    {
     "data": {
      "image/png": "[encoded data removed]",
      "text/plain": [
       "<Figure size 1080x288 with 2 Axes>"
      ]
     },
     "metadata": {
      "needs_background": "light"
     },
     "output_type": "display_data"
    }
   ],
   "source": [
    "plot(history_model6)"
   ]
  },
  {
   "cell_type": "markdown",
   "metadata": {},
   "source": [
    "### Here we achieved a good training accuracy of 93.36% and the validation accuracy of 77.0%."
   ]
  },
  {
   "cell_type": "markdown",
   "metadata": {},
   "source": [
    "### But there is a lot of difference between training and validation accuracy. As we tried many different combinations, but we are not getting perfect results. "
   ]
  },
  {
   "cell_type": "markdown",
   "metadata": {},
   "source": [
    "### So, let’s try Transfer learning which many provide us with best results"
   ]
  },
  {
   "cell_type": "markdown",
   "metadata": {},
   "source": [
    "# Model 7\n",
    "## Transfer Learning"
   ]
  },
  {
   "cell_type": "code",
   "execution_count": 16,
   "metadata": {},
   "outputs": [],
   "source": [
    "from keras.applications import mobilenet"
   ]
  },
  {
   "cell_type": "code",
   "execution_count": 17,
   "metadata": {},
   "outputs": [
    {
     "name": "stdout",
     "output_type": "stream",
     "text": [
      "WARNING:tensorflow:`input_shape` is undefined or non-square, or `rows` is not in [128, 160, 192, 224]. Weights for input shape (224, 224) will be loaded as the default.\n"
     ]
    }
   ],
   "source": [
    "mobilenet_transfer = mobilenet.MobileNet(weights='imagenet', include_top=False)\n",
    "\n",
    "class RNNCNN_TL(GenModelAugmentation):\n",
    "    \n",
    "    def define_model(self,lstm_cells=64,dense_neurons=64,dropout=0.25):\n",
    "        \n",
    "        model = Sequential()\n",
    "        model.add(TimeDistributed(mobilenet_transfer,input_shape=(self.frames_to_sample,self.image_height,self.image_width,self.channels)))\n",
    "        \n",
    "        \n",
    "        for layer in model.layers:\n",
    "            layer.trainable = False\n",
    "        \n",
    "        \n",
    "        model.add(TimeDistributed(BatchNormalization()))\n",
    "        model.add(TimeDistributed(MaxPooling2D((2, 2))))\n",
    "        model.add(TimeDistributed(Flatten()))\n",
    "\n",
    "        model.add(LSTM(lstm_cells))\n",
    "        model.add(Dropout(dropout))\n",
    "        \n",
    "        model.add(Dense(dense_neurons,activation='relu'))\n",
    "        model.add(Dropout(dropout))\n",
    "        \n",
    "        model.add(Dense(self.num_classes, activation='softmax'))\n",
    "        \n",
    "        \n",
    "        optimiser = tf.optimizers.Adam()\n",
    "        model.compile(optimizer=optimiser, loss='categorical_crossentropy', metrics=['categorical_accuracy'])\n",
    "        return model"
   ]
  },
  {
   "cell_type": "code",
   "execution_count": 18,
   "metadata": {},
   "outputs": [
    {
     "name": "stdout",
     "output_type": "stream",
     "text": [
      "Model: \"sequential_1\"\n",
      "_________________________________________________________________\n",
      " Layer (type)                Output Shape              Param #   \n",
      "=================================================================\n",
      " time_distributed_4 (TimeDis  (None, 16, 3, 3, 1024)   3228864   \n",
      " tributed)                                                       \n",
      "                                                                 \n",
      " time_distributed_5 (TimeDis  (None, 16, 3, 3, 1024)   4096      \n",
      " tributed)                                                       \n",
      "                                                                 \n",
      " time_distributed_6 (TimeDis  (None, 16, 1, 1, 1024)   0         \n",
      " tributed)                                                       \n",
      "                                                                 \n",
      " time_distributed_7 (TimeDis  (None, 16, 1024)         0         \n",
      " tributed)                                                       \n",
      "                                                                 \n",
      " lstm (LSTM)                 (None, 128)               590336    \n",
      "                                                                 \n",
      " dropout_2 (Dropout)         (None, 128)               0         \n",
      "                                                                 \n",
      " dense_2 (Dense)             (None, 128)               16512     \n",
      "                                                                 \n",
      " dropout_3 (Dropout)         (None, 128)               0         \n",
      "                                                                 \n",
      " dense_3 (Dense)             (None, 5)                 645       \n",
      "                                                                 \n",
      "=================================================================\n",
      "Total params: 3,840,453\n",
      "Trainable params: 609,541\n",
      "Non-trainable params: 3,230,912\n",
      "_________________________________________________________________\n"
     ]
    }
   ],
   "source": [
    "rnn_cnn_t_l=RNNCNN_TL()\n",
    "rnn_cnn_t_l.initialize_path(project_folder)\n",
    "rnn_cnn_t_l.initialize_image_properties(image_height=120,image_width=120)\n",
    "rnn_cnn_t_l.initialize_hyperparams(frames_to_sample=16,batch_size=5,num_epochs=20)\n",
    "rnn_cnn_t_model_1=rnn_cnn_t_l.define_model(lstm_cells=128,dense_neurons=128,dropout=0.25)\n",
    "rnn_cnn_t_model_1.summary()"
   ]
  },
  {
   "cell_type": "code",
   "execution_count": 19,
   "metadata": {},
   "outputs": [
    {
     "name": "stdout",
     "output_type": "stream",
     "text": [
      "Total Params: 3840453\n",
      "WARNING:tensorflow:`period` argument is deprecated. Please use `save_freq` to specify the frequency in number of batches seen.\n",
      "Epoch 1/20\n",
      "133/133 [==============================] - ETA: 0s - loss: 1.3383 - categorical_accuracy: 0.4487\n",
      "Epoch 00001: saving model to model_init_2023-02-1302_10_43.519240/model-00001-1.33826-0.44872-0.84032-0.71000.h5\n",
      "133/133 [==============================] - 166s 1s/step - loss: 1.3383 - categorical_accuracy: 0.4487 - val_loss: 0.8403 - val_categorical_accuracy: 0.7100 - lr: 0.0010\n",
      "Epoch 2/20\n",
      "133/133 [==============================] - ETA: 0s - loss: 0.8281 - categorical_accuracy: 0.6870\n",
      "Epoch 00002: saving model to model_init_2023-02-1302_10_43.519240/model-00002-0.82810-0.68703-0.68191-0.74000.h5\n",
      "133/133 [==============================] - 163s 1s/step - loss: 0.8281 - categorical_accuracy: 0.6870 - val_loss: 0.6819 - val_categorical_accuracy: 0.7400 - lr: 0.0010\n",
      "Epoch 3/20\n",
      "133/133 [==============================] - ETA: 0s - loss: 0.5844 - categorical_accuracy: 0.7911\n",
      "Epoch 00003: saving model to model_init_2023-02-1302_10_43.519240/model-00003-0.58436-0.79110-0.57611-0.74000.h5\n",
      "133/133 [==============================] - 161s 1s/step - loss: 0.5844 - categorical_accuracy: 0.7911 - val_loss: 0.5761 - val_categorical_accuracy: 0.7400 - lr: 0.0010\n",
      "Epoch 4/20\n",
      "133/133 [==============================] - ETA: 0s - loss: 0.4487 - categorical_accuracy: 0.8265\n",
      "Epoch 00004: saving model to model_init_2023-02-1302_10_43.519240/model-00004-0.44874-0.82655-0.52794-0.79000.h5\n",
      "133/133 [==============================] - 161s 1s/step - loss: 0.4487 - categorical_accuracy: 0.8265 - val_loss: 0.5279 - val_categorical_accuracy: 0.7900 - lr: 0.0010\n",
      "Epoch 5/20\n",
      "133/133 [==============================] - ETA: 0s - loss: 0.4311 - categorical_accuracy: 0.8439\n",
      "Epoch 00005: saving model to model_init_2023-02-1302_10_43.519240/model-00005-0.43108-0.84389-0.59124-0.77000.h5\n",
      "133/133 [==============================] - 161s 1s/step - loss: 0.4311 - categorical_accuracy: 0.8439 - val_loss: 0.5912 - val_categorical_accuracy: 0.7700 - lr: 0.0010\n",
      "Epoch 6/20\n",
      "133/133 [==============================] - ETA: 0s - loss: 0.3030 - categorical_accuracy: 0.8929\n",
      "Epoch 00006: saving model to model_init_2023-02-1302_10_43.519240/model-00006-0.30304-0.89291-0.67247-0.75000.h5\n",
      "133/133 [==============================] - 160s 1s/step - loss: 0.3030 - categorical_accuracy: 0.8929 - val_loss: 0.6725 - val_categorical_accuracy: 0.7500 - lr: 0.0010\n",
      "Epoch 7/20\n",
      "133/133 [==============================] - ETA: 0s - loss: 0.2519 - categorical_accuracy: 0.9095\n",
      "Epoch 00007: saving model to model_init_2023-02-1302_10_43.519240/model-00007-0.25189-0.90950-0.50707-0.77000.h5\n",
      "133/133 [==============================] - 159s 1s/step - loss: 0.2519 - categorical_accuracy: 0.9095 - val_loss: 0.5071 - val_categorical_accuracy: 0.7700 - lr: 0.0010\n",
      "Epoch 8/20\n",
      "133/133 [==============================] - ETA: 0s - loss: 0.2701 - categorical_accuracy: 0.8974\n",
      "Epoch 00008: saving model to model_init_2023-02-1302_10_43.519240/model-00008-0.27009-0.89744-0.64882-0.76000.h5\n",
      "133/133 [==============================] - 164s 1s/step - loss: 0.2701 - categorical_accuracy: 0.8974 - val_loss: 0.6488 - val_categorical_accuracy: 0.7600 - lr: 0.0010\n",
      "Epoch 9/20\n",
      "133/133 [==============================] - ETA: 0s - loss: 0.2007 - categorical_accuracy: 0.9351\n",
      "Epoch 00009: saving model to model_init_2023-02-1302_10_43.519240/model-00009-0.20069-0.93514-0.66685-0.78000.h5\n",
      "133/133 [==============================] - 164s 1s/step - loss: 0.2007 - categorical_accuracy: 0.9351 - val_loss: 0.6669 - val_categorical_accuracy: 0.7800 - lr: 0.0010\n",
      "Epoch 10/20\n",
      "133/133 [==============================] - ETA: 0s - loss: 0.2308 - categorical_accuracy: 0.9231\n",
      "Epoch 00010: saving model to model_init_2023-02-1302_10_43.519240/model-00010-0.23084-0.92308-0.61346-0.80000.h5\n",
      "133/133 [==============================] - 164s 1s/step - loss: 0.2308 - categorical_accuracy: 0.9231 - val_loss: 0.6135 - val_categorical_accuracy: 0.8000 - lr: 0.0010\n",
      "Epoch 11/20\n",
      "133/133 [==============================] - ETA: 0s - loss: 0.1057 - categorical_accuracy: 0.9683\n",
      "Epoch 00014: saving model to model_init_2023-02-1302_10_43.519240/model-00014-0.10574-0.96833-0.60080-0.83000.h5\n",
      "133/133 [==============================] - 162s 1s/step - loss: 0.1057 - categorical_accuracy: 0.9683 - val_loss: 0.6008 - val_categorical_accuracy: 0.8300 - lr: 2.0000e-04\n",
      "Epoch 15/20\n",
      "133/133 [==============================] - ETA: 0s - loss: 0.0943 - categorical_accuracy: 0.9706\n",
      "Epoch 00015: saving model to model_init_2023-02-1302_10_43.519240/model-00015-0.09429-0.97059-0.63165-0.78000.h5\n",
      "\n",
      "Epoch 00015: ReduceLROnPlateau reducing learning rate to 4.0000001899898055e-05.\n",
      "133/133 [==============================] - 158s 1s/step - loss: 0.0943 - categorical_accuracy: 0.9706 - val_loss: 0.6317 - val_categorical_accuracy: 0.7800 - lr: 2.0000e-04\n",
      "Epoch 16/20\n",
      "133/133 [==============================] - ETA: 0s - loss: 0.0624 - categorical_accuracy: 0.9811\n",
      "Epoch 00016: saving model to model_init_2023-02-1302_10_43.519240/model-00016-0.06244-0.98115-0.69898-0.78000.h5\n",
      "133/133 [==============================] - 162s 1s/step - loss: 0.0624 - categorical_accuracy: 0.9811 - val_loss: 0.6990 - val_categorical_accuracy: 0.7800 - lr: 4.0000e-05\n",
      "Epoch 17/20\n",
      "133/133 [==============================] - ETA: 0s - loss: 0.0866 - categorical_accuracy: 0.9698\n",
      "Epoch 00017: saving model to model_init_2023-02-1302_10_43.519240/model-00017-0.08658-0.96983-0.70151-0.79000.h5\n",
      "133/133 [==============================] - 162s 1s/step - loss: 0.0866 - categorical_accuracy: 0.9698 - val_loss: 0.7015 - val_categorical_accuracy: 0.7900 - lr: 4.0000e-05\n",
      "Epoch 18/20\n",
      "133/133 [==============================] - ETA: 0s - loss: 0.0787 - categorical_accuracy: 0.9736\n",
      "Epoch 00018: saving model to model_init_2023-02-1302_10_43.519240/model-00018-0.07867-0.97360-0.61476-0.80000.h5\n",
      "133/133 [==============================] - 167s 1s/step - loss: 0.0787 - categorical_accuracy: 0.9736 - val_loss: 0.6148 - val_categorical_accuracy: 0.8000 - lr: 4.0000e-05\n",
      "Epoch 19/20\n",
      "133/133 [==============================] - ETA: 0s - loss: 0.0675 - categorical_accuracy: 0.9759\n",
      "Epoch 00019: saving model to model_init_2023-02-1302_10_43.519240/model-00019-0.06751-0.97587-0.71503-0.79000.h5\n",
      "\n",
      "Epoch 00019: ReduceLROnPlateau reducing learning rate to 8.000000525498762e-06.\n",
      "133/133 [==============================] - 158s 1s/step - loss: 0.0675 - categorical_accuracy: 0.9759 - val_loss: 0.7150 - val_categorical_accuracy: 0.7900 - lr: 4.0000e-05\n",
      "Epoch 20/20\n",
      "133/133 [==============================] - ETA: 0s - loss: 0.0707 - categorical_accuracy: 0.9819\n",
      "Epoch 00020: saving model to model_init_2023-02-1302_10_43.519240/model-00020-0.07067-0.98190-0.68066-0.78000.h5\n",
      "133/133 [==============================] - 159s 1s/step - loss: 0.0707 - categorical_accuracy: 0.9819 - val_loss: 0.6807 - val_categorical_accuracy: 0.7800 - lr: 8.0000e-06\n"
     ]
    }
   ],
   "source": [
    "print(\"Total Params:\", rnn_cnn_t_model_1.count_params())\n",
    "history_model_7=rnn_cnn_t_l.train_model(rnn_cnn_t_model_1,augment_data=True)"
   ]
  },
  {
   "cell_type": "code",
   "execution_count": 20,
   "metadata": {},
   "outputs": [
    {
     "data": {
      "image/png": "[encoded data removed]",
      "text/plain": [
       "<Figure size 1080x288 with 2 Axes>"
      ]
     },
     "metadata": {
      "needs_background": "light"
     },
     "output_type": "display_data"
    }
   ],
   "source": [
    "plot(history_model_7)"
   ]
  },
  {
   "cell_type": "markdown",
   "metadata": {},
   "source": [
    "##### Here we achieved a good training accuracy of 98.19% and the validation accuracy of 78.0%. \n",
    "- Trainable params: 609,541\n",
    "- Non-trainable params: 3,230,912\n",
    "#### Here, there is a lot of difference between training and validation accuracy. In this model the untrained parameters count is 3,230,912 which very huge and if we try to train all the parameters then we can achieve best results"
   ]
  },
  {
   "cell_type": "markdown",
   "metadata": {},
   "source": [
    "### So, let’s try Transfer learning with all parameters trained which many provide us with best results"
   ]
  },
  {
   "cell_type": "markdown",
   "metadata": {},
   "source": [
    "# Model 8\n",
    "### Transfer Learning with GRU and training all weights"
   ]
  },
  {
   "cell_type": "code",
   "execution_count": 12,
   "metadata": {},
   "outputs": [
    {
     "name": "stdout",
     "output_type": "stream",
     "text": [
      "WARNING:tensorflow:`input_shape` is undefined or non-square, or `rows` is not in [128, 160, 192, 224]. Weights for input shape (224, 224) will be loaded as the default.\n"
     ]
    },
    {
     "name": "stderr",
     "output_type": "stream",
     "text": [
      "2023-02-13 01:14:53.218082: W tensorflow/core/common_runtime/gpu/gpu_bfc_allocator.cc:39] Overriding allow_growth setting because the TF_FORCE_GPU_ALLOW_GROWTH environment variable is set. Original config value was 0.\n",
      "2023-02-13 01:14:53.218148: I tensorflow/core/common_runtime/gpu/gpu_device.cc:1525] Created device /job:localhost/replica:0/task:0/device:GPU:0 with 14802 MB memory:  -> device: 0, name: Quadro RTX 5000, pci bus id: 0000:1d:00.0, compute capability: 7.5\n"
     ]
    }
   ],
   "source": [
    "from keras.applications import mobilenet\n",
    "\n",
    "mobilenet_transfer = mobilenet.MobileNet(weights='imagenet', include_top=False)\n",
    "\n",
    "class RNNCNN_TL2(GenModelAugmentation):\n",
    "    \n",
    "    def define_model(self,gru_cells=64,dense_neurons=64,dropout=0.25):\n",
    "        \n",
    "        model = Sequential()\n",
    "        model.add(TimeDistributed(mobilenet_transfer,input_shape=(self.frames_to_sample,self.image_height,self.image_width,self.channels)))\n",
    " \n",
    "        \n",
    "        model.add(TimeDistributed(BatchNormalization()))\n",
    "        model.add(TimeDistributed(MaxPooling2D((2, 2))))\n",
    "        model.add(TimeDistributed(Flatten()))\n",
    "\n",
    "        model.add(GRU(gru_cells))\n",
    "        model.add(Dropout(dropout))\n",
    "        \n",
    "        model.add(Dense(dense_neurons,activation='relu'))\n",
    "        model.add(Dropout(dropout))\n",
    "        \n",
    "        model.add(Dense(self.num_classes, activation='softmax'))\n",
    "        \n",
    "        \n",
    "        optimiser = tf.optimizers.Adam()\n",
    "        model.compile(optimizer=optimiser, loss='categorical_crossentropy', metrics=['categorical_accuracy'])\n",
    "        return model"
   ]
  },
  {
   "cell_type": "code",
   "execution_count": 13,
   "metadata": {},
   "outputs": [
    {
     "name": "stdout",
     "output_type": "stream",
     "text": [
      "Model: \"sequential\"\n",
      "_________________________________________________________________\n",
      " Layer (type)                Output Shape              Param #   \n",
      "=================================================================\n",
      " time_distributed (TimeDistr  (None, 16, 3, 3, 1024)   3228864   \n",
      " ibuted)                                                         \n",
      "                                                                 \n",
      " time_distributed_1 (TimeDis  (None, 16, 3, 3, 1024)   4096      \n",
      " tributed)                                                       \n",
      "                                                                 \n",
      " time_distributed_2 (TimeDis  (None, 16, 1, 1, 1024)   0         \n",
      " tributed)                                                       \n",
      "                                                                 \n",
      " time_distributed_3 (TimeDis  (None, 16, 1024)         0         \n",
      " tributed)                                                       \n",
      "                                                                 \n",
      " gru (GRU)                   (None, 128)               443136    \n",
      "                                                                 \n",
      " dropout (Dropout)           (None, 128)               0         \n",
      "                                                                 \n",
      " dense (Dense)               (None, 128)               16512     \n",
      "                                                                 \n",
      " dropout_1 (Dropout)         (None, 128)               0         \n",
      "                                                                 \n",
      " dense_1 (Dense)             (None, 5)                 645       \n",
      "                                                                 \n",
      "=================================================================\n",
      "Total params: 3,693,253\n",
      "Trainable params: 3,669,317\n",
      "Non-trainable params: 23,936\n",
      "_________________________________________________________________\n"
     ]
    }
   ],
   "source": [
    "rnn_cnn_tl_2=RNNCNN_TL2()\n",
    "rnn_cnn_tl_2.initialize_path(project_folder)\n",
    "rnn_cnn_tl_2.initialize_image_properties(image_height=120,image_width=120)\n",
    "rnn_cnn_tl_2.initialize_hyperparams(frames_to_sample=16,batch_size=5,num_epochs=20)\n",
    "rnn_cnn_tl_model_2=rnn_cnn_tl_2.define_model(gru_cells=128,dense_neurons=128,dropout=0.25)\n",
    "rnn_cnn_tl_model_2.summary()"
   ]
  },
  {
   "cell_type": "code",
   "execution_count": 14,
   "metadata": {
    "scrolled": true
   },
   "outputs": [
    {
     "name": "stdout",
     "output_type": "stream",
     "text": [
      "Total Params: 3693253\n",
      "WARNING:tensorflow:`period` argument is deprecated. Please use `save_freq` to specify the frequency in number of batches seen.\n",
      "Epoch 1/20\n"
     ]
    },
    {
     "name": "stderr",
     "output_type": "stream",
     "text": [
      "2023-02-13 01:16:00.553330: I tensorflow/stream_executor/cuda/cuda_dnn.cc:377] Loaded cuDNN version 8302\n"
     ]
    },
    {
     "name": "stdout",
     "output_type": "stream",
     "text": [
      "133/133 [==============================] - ETA: 0s - loss: 1.0824 - categorical_accuracy: 0.5777\n",
      "Epoch 00001: saving model to model_init_2023-02-1301_15_54.772821/model-00001-1.08236-0.57768-0.55248-0.80000.h5\n",
      "133/133 [==============================] - 164s 1s/step - loss: 1.0824 - categorical_accuracy: 0.5777 - val_loss: 0.5525 - val_categorical_accuracy: 0.8000 - lr: 0.0010\n",
      "Epoch 2/20\n",
      "133/133 [==============================] - ETA: 0s - loss: 0.4828 - categorical_accuracy: 0.8348\n",
      "Epoch 00002: saving model to model_init_2023-02-1301_15_54.772821/model-00002-0.48282-0.83484-0.23706-0.92000.h5\n",
      "133/133 [==============================] - 153s 1s/step - loss: 0.4828 - categorical_accuracy: 0.8348 - val_loss: 0.2371 - val_categorical_accuracy: 0.9200 - lr: 0.0010\n",
      "Epoch 3/20\n",
      "133/133 [==============================] - ETA: 0s - loss: 0.2245 - categorical_accuracy: 0.9291\n",
      "Epoch 00006: saving model to model_init_2023-02-1301_15_54.772821/model-00006-0.22450-0.92911-0.35046-0.84000.h5\n",
      "133/133 [==============================] - 158s 1s/step - loss: 0.2245 - categorical_accuracy: 0.9291 - val_loss: 0.3505 - val_categorical_accuracy: 0.8400 - lr: 0.0010\n",
      "Epoch 7/20\n",
      "133/133 [==============================] - ETA: 0s - loss: 0.2152 - categorical_accuracy: 0.9344\n",
      "Epoch 00007: saving model to model_init_2023-02-1301_15_54.772821/model-00007-0.21524-0.93439-0.36590-0.92000.h5\n",
      "\n",
      "Epoch 00007: ReduceLROnPlateau reducing learning rate to 0.00020000000949949026.\n",
      "133/133 [==============================] - 157s 1s/step - loss: 0.2152 - categorical_accuracy: 0.9344 - val_loss: 0.3659 - val_categorical_accuracy: 0.9200 - lr: 0.0010\n",
      "Epoch 8/20\n",
      "133/133 [==============================] - ETA: 0s - loss: 0.0962 - categorical_accuracy: 0.9653\n",
      "Epoch 00008: saving model to model_init_2023-02-1301_15_54.772821/model-00008-0.09617-0.96531-0.12099-0.95000.h5\n",
      "133/133 [==============================] - 155s 1s/step - loss: 0.0962 - categorical_accuracy: 0.9653 - val_loss: 0.1210 - val_categorical_accuracy: 0.9500 - lr: 2.0000e-04\n",
      "Epoch 9/20\n",
      "133/133 [==============================] - ETA: 0s - loss: 0.0579 - categorical_accuracy: 0.9804\n",
      "Epoch 00009: saving model to model_init_2023-02-1301_15_54.772821/model-00009-0.05794-0.98039-0.04635-0.99000.h5\n",
      "133/133 [==============================] - 154s 1s/step - loss: 0.0579 - categorical_accuracy: 0.9804 - val_loss: 0.0464 - val_categorical_accuracy: 0.9900 - lr: 2.0000e-04\n",
      "Epoch 10/20\n",
      "133/133 [==============================] - ETA: 0s - loss: 0.0457 - categorical_accuracy: 0.9872\n",
      "Epoch 00010: saving model to model_init_2023-02-1301_15_54.772821/model-00010-0.04573-0.98718-0.00615-1.00000.h5\n",
      "133/133 [==============================] - 157s 1s/step - loss: 0.0457 - categorical_accuracy: 0.9872 - val_loss: 0.0062 - val_categorical_accuracy: 1.0000 - lr: 2.0000e-04\n",
      "Epoch 11/20\n",
      "133/133 [==============================] - ETA: 0s - loss: 0.0509 - categorical_accuracy: 0.9842\n",
      "Epoch 00011: saving model to model_init_2023-02-1301_15_54.772821/model-00011-0.05089-0.98416-0.05486-0.98000.h5\n",
      "133/133 [==============================] - 160s 1s/step - loss: 0.0509 - categorical_accuracy: 0.9842 - val_loss: 0.0549 - val_categorical_accuracy: 0.9800 - lr: 2.0000e-04\n",
      "Epoch 12/20\n",
      "133/133 [==============================] - ETA: 0s - loss: 0.0307 - categorical_accuracy: 0.9925\n",
      "Epoch 00012: saving model to model_init_2023-02-1301_15_54.772821/model-00012-0.03070-0.99246-0.07091-0.98000.h5\n",
      "133/133 [==============================] - 159s 1s/step - loss: 0.0307 - categorical_accuracy: 0.9925 - val_loss: 0.0709 - val_categorical_accuracy: 0.9800 - lr: 2.0000e-04\n",
      "Epoch 13/20\n",
      "133/133 [==============================] - ETA: 0s - loss: 0.0243 - categorical_accuracy: 0.9947\n",
      "Epoch 00013: saving model to model_init_2023-02-1301_15_54.772821/model-00013-0.02434-0.99472-0.06468-0.99000.h5\n",
      "133/133 [==============================] - 152s 1s/step - loss: 0.0243 - categorical_accuracy: 0.9947 - val_loss: 0.0647 - val_categorical_accuracy: 0.9900 - lr: 2.0000e-04\n",
      "Epoch 14/20\n",
      "133/133 [==============================] - ETA: 0s - loss: 0.0270 - categorical_accuracy: 0.9894\n",
      "Epoch 00014: saving model to model_init_2023-02-1301_15_54.772821/model-00014-0.02701-0.98944-0.07342-0.99000.h5\n",
      "\n",
      "Epoch 00014: ReduceLROnPlateau reducing learning rate to 4.0000001899898055e-05.\n",
      "133/133 [==============================] - 150s 1s/step - loss: 0.0270 - categorical_accuracy: 0.9894 - val_loss: 0.0734 - val_categorical_accuracy: 0.9900 - lr: 2.0000e-04\n",
      "Epoch 15/20\n",
      "133/133 [==============================] - ETA: 0s - loss: 0.0218 - categorical_accuracy: 0.9947\n",
      "Epoch 00015: saving model to model_init_2023-02-1301_15_54.772821/model-00015-0.02178-0.99472-0.07562-0.98000.h5\n",
      "133/133 [==============================] - 154s 1s/step - loss: 0.0218 - categorical_accuracy: 0.9947 - val_loss: 0.0756 - val_categorical_accuracy: 0.9800 - lr: 4.0000e-05\n",
      "Epoch 16/20\n",
      "133/133 [==============================] - ETA: 0s - loss: 0.0151 - categorical_accuracy: 0.9947\n",
      "Epoch 00016: saving model to model_init_2023-02-1301_15_54.772821/model-00016-0.01506-0.99472-0.05538-0.99000.h5\n",
      "133/133 [==============================] - 157s 1s/step - loss: 0.0151 - categorical_accuracy: 0.9947 - val_loss: 0.0554 - val_categorical_accuracy: 0.9900 - lr: 4.0000e-05\n",
      "Epoch 17/20\n",
      "133/133 [==============================] - ETA: 0s - loss: 0.0152 - categorical_accuracy: 0.9962\n",
      "Epoch 00017: saving model to model_init_2023-02-1301_15_54.772821/model-00017-0.01524-0.99623-0.10154-0.97000.h5\n",
      "133/133 [==============================] - 161s 1s/step - loss: 0.0152 - categorical_accuracy: 0.9962 - val_loss: 0.1015 - val_categorical_accuracy: 0.9700 - lr: 4.0000e-05\n",
      "Epoch 18/20\n",
      "133/133 [==============================] - ETA: 0s - loss: 0.0160 - categorical_accuracy: 0.9955\n",
      "Epoch 00018: saving model to model_init_2023-02-1301_15_54.772821/model-00018-0.01597-0.99548-0.10324-0.98000.h5\n",
      "\n",
      "Epoch 00018: ReduceLROnPlateau reducing learning rate to 8.000000525498762e-06.\n",
      "133/133 [==============================] - 161s 1s/step - loss: 0.0160 - categorical_accuracy: 0.9955 - val_loss: 0.1032 - val_categorical_accuracy: 0.9800 - lr: 4.0000e-05\n",
      "Epoch 19/20\n",
      "133/133 [==============================] - ETA: 0s - loss: 0.0179 - categorical_accuracy: 0.9932\n",
      "Epoch 00019: saving model to model_init_2023-02-1301_15_54.772821/model-00019-0.01790-0.99321-0.07762-0.98000.h5\n",
      "133/133 [==============================] - 162s 1s/step - loss: 0.0179 - categorical_accuracy: 0.9932 - val_loss: 0.0776 - val_categorical_accuracy: 0.9800 - lr: 8.0000e-06\n",
      "Epoch 20/20\n",
      "133/133 [==============================] - ETA: 0s - loss: 0.0175 - categorical_accuracy: 0.9962\n",
      "Epoch 00020: saving model to model_init_2023-02-1301_15_54.772821/model-00020-0.01753-0.99623-0.08710-0.98000.h5\n",
      "133/133 [==============================] - 162s 1s/step - loss: 0.0175 - categorical_accuracy: 0.9962 - val_loss: 0.0871 - val_categorical_accuracy: 0.9800 - lr: 8.0000e-06\n"
     ]
    }
   ],
   "source": [
    "print(\"Total Params:\", rnn_cnn_tl_model_2.count_params())\n",
    "history_model8=rnn_cnn_tl_2.train_model(rnn_cnn_tl_model_2,augment_data=True)"
   ]
  },
  {
   "cell_type": "code",
   "execution_count": 15,
   "metadata": {
    "scrolled": true
   },
   "outputs": [
    {
     "data": {
      "image/png": "[encoded data removed]",
      "text/plain": [
       "<Figure size 1080x288 with 2 Axes>"
      ]
     },
     "metadata": {
      "needs_background": "light"
     },
     "output_type": "display_data"
    }
   ],
   "source": [
    "plot(history_model8)"
   ]
  },
  {
   "cell_type": "markdown",
   "metadata": {},
   "source": [
    "### Here we achieved a good training accuracy of 99.62%  and the validation accuracy of 98.0%.\n",
    "- Trainable params: 3,669,317\n",
    "- Non-trainable params: 23,936\n",
    "\n",
    "### Finally, We found the best model!!!"
   ]
  },
  {
   "cell_type": "markdown",
   "metadata": {},
   "source": [
    "### -----------------------------------*****---------END---------*****---------------------------------"
   ]
  }
 ],
 "metadata": {
  "kernelspec": {
   "display_name": "Python 3 (ipykernel)",
   "language": "python",
   "name": "python3"
  },
  "language_info": {
   "codemirror_mode": {
    "name": "ipython",
    "version": 3
   },
   "file_extension": ".py",
   "mimetype": "text/x-python",
   "name": "python",
   "nbconvert_exporter": "python",
   "pygments_lexer": "ipython3",
   "version": "3.8.10"
  }
 },
 "nbformat": 4,
 "nbformat_minor": 4
}
